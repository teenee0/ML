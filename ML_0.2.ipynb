{
  "nbformat": 4,
  "nbformat_minor": 0,
  "metadata": {
    "colab": {
      "provenance": []
    },
    "kernelspec": {
      "name": "python3",
      "display_name": "Python 3"
    },
    "language_info": {
      "name": "python"
    }
  },
  "cells": [
    {
      "cell_type": "code",
      "execution_count": 1,
      "metadata": {
        "colab": {
          "base_uri": "https://localhost:8080/"
        },
        "id": "QHII5GgZ07Gd",
        "outputId": "efb84317-1d81-4829-b4dd-65bc823103aa"
      },
      "outputs": [
        {
          "output_type": "stream",
          "name": "stdout",
          "text": [
            "Requirement already satisfied: pandas in /usr/local/lib/python3.10/dist-packages (1.5.3)\n",
            "Requirement already satisfied: python-dateutil>=2.8.1 in /usr/local/lib/python3.10/dist-packages (from pandas) (2.8.2)\n",
            "Requirement already satisfied: pytz>=2020.1 in /usr/local/lib/python3.10/dist-packages (from pandas) (2023.3.post1)\n",
            "Requirement already satisfied: numpy>=1.21.0 in /usr/local/lib/python3.10/dist-packages (from pandas) (1.23.5)\n",
            "Requirement already satisfied: six>=1.5 in /usr/local/lib/python3.10/dist-packages (from python-dateutil>=2.8.1->pandas) (1.16.0)\n"
          ]
        }
      ],
      "source": [
        "pip install pandas"
      ]
    },
    {
      "cell_type": "code",
      "source": [
        "import pandas as  pd"
      ],
      "metadata": {
        "id": "H89lzJ5B1IBz"
      },
      "execution_count": 2,
      "outputs": []
    },
    {
      "cell_type": "markdown",
      "source": [
        "1.\n",
        "Загрузите данные по вариантам в ноутбук."
      ],
      "metadata": {
        "id": "8vk9CRIz69jO"
      }
    },
    {
      "cell_type": "code",
      "source": [
        "df = pd.read_excel(\"Вариант 2.xlsx\", skiprows=2, skipfooter=1)\n",
        "df"
      ],
      "metadata": {
        "colab": {
          "base_uri": "https://localhost:8080/",
          "height": 441
        },
        "id": "MlShgVN21IEO",
        "outputId": "5ea8c773-8f69-4dbe-d4aa-9721b3c5c622"
      },
      "execution_count": 3,
      "outputs": [
        {
          "output_type": "execute_result",
          "data": {
            "text/plain": [
              "         №  № школы Класс Пол  Номер варианта Задания с кратким ответом  \\\n",
              "0        1      124    11   Ж             341              ------+-----   \n",
              "1        2      128    11   Ж             345              -+----------   \n",
              "2        3      132    11   Ж             340              -+----------   \n",
              "3        4      134    11   Ж             339              -+----------   \n",
              "4        5      136    11   Ж             348              --------+---   \n",
              "...    ...      ...   ...  ..             ...                       ...   \n",
              "2351  2352      136    11   М             337              ++++++++++++   \n",
              "2352  2353      136    11   М             341              ++-+++++++++   \n",
              "2353  2354      136    11   М             341              ++++++++++++   \n",
              "2354  2355      136    11   М             343              ++++++++++++   \n",
              "2355  2356      136    11   Ж             337              ++++++++++++   \n",
              "\n",
              "     Задания с развёрнутым ответом  Устная часть  Первичный балл  Балл  \\\n",
              "0     0(2)0(2)0(2)0(3)0(3)0(4)0(4)           NaN               1     5   \n",
              "1     0(2)0(2)0(2)0(3)0(3)0(4)0(4)           NaN               1     5   \n",
              "2     0(2)0(2)0(2)0(3)0(3)0(4)0(4)           NaN               1     5   \n",
              "3     0(2)0(2)0(2)0(3)0(3)0(4)0(4)           NaN               1     5   \n",
              "4     0(2)0(2)0(2)0(3)0(3)0(4)0(4)           NaN               1     5   \n",
              "...                            ...           ...             ...   ...   \n",
              "2351  2(2)2(2)2(2)3(3)3(3)0(4)1(4)           NaN              25    92   \n",
              "2352  2(2)2(2)1(2)2(3)2(3)4(4)1(4)           NaN              25    92   \n",
              "2353  2(2)1(2)2(2)1(3)3(3)4(4)2(4)           NaN              27    96   \n",
              "2354  2(2)2(2)2(2)0(3)3(3)4(4)2(4)           NaN              27    96   \n",
              "2355  2(2)2(2)2(2)0(3)3(3)4(4)2(4)           NaN              27    96   \n",
              "\n",
              "      Минимальный балл  \n",
              "0                   27  \n",
              "1                   27  \n",
              "2                   27  \n",
              "3                   27  \n",
              "4                   27  \n",
              "...                ...  \n",
              "2351                27  \n",
              "2352                27  \n",
              "2353                27  \n",
              "2354                27  \n",
              "2355                27  \n",
              "\n",
              "[2356 rows x 11 columns]"
            ],
            "text/html": [
              "\n",
              "  <div id=\"df-f03955ff-2f3a-48a1-a99a-1eaf0de5fbec\" class=\"colab-df-container\">\n",
              "    <div>\n",
              "<style scoped>\n",
              "    .dataframe tbody tr th:only-of-type {\n",
              "        vertical-align: middle;\n",
              "    }\n",
              "\n",
              "    .dataframe tbody tr th {\n",
              "        vertical-align: top;\n",
              "    }\n",
              "\n",
              "    .dataframe thead th {\n",
              "        text-align: right;\n",
              "    }\n",
              "</style>\n",
              "<table border=\"1\" class=\"dataframe\">\n",
              "  <thead>\n",
              "    <tr style=\"text-align: right;\">\n",
              "      <th></th>\n",
              "      <th>№</th>\n",
              "      <th>№ школы</th>\n",
              "      <th>Класс</th>\n",
              "      <th>Пол</th>\n",
              "      <th>Номер варианта</th>\n",
              "      <th>Задания с кратким ответом</th>\n",
              "      <th>Задания с развёрнутым ответом</th>\n",
              "      <th>Устная часть</th>\n",
              "      <th>Первичный балл</th>\n",
              "      <th>Балл</th>\n",
              "      <th>Минимальный балл</th>\n",
              "    </tr>\n",
              "  </thead>\n",
              "  <tbody>\n",
              "    <tr>\n",
              "      <th>0</th>\n",
              "      <td>1</td>\n",
              "      <td>124</td>\n",
              "      <td>11</td>\n",
              "      <td>Ж</td>\n",
              "      <td>341</td>\n",
              "      <td>------+-----</td>\n",
              "      <td>0(2)0(2)0(2)0(3)0(3)0(4)0(4)</td>\n",
              "      <td>NaN</td>\n",
              "      <td>1</td>\n",
              "      <td>5</td>\n",
              "      <td>27</td>\n",
              "    </tr>\n",
              "    <tr>\n",
              "      <th>1</th>\n",
              "      <td>2</td>\n",
              "      <td>128</td>\n",
              "      <td>11</td>\n",
              "      <td>Ж</td>\n",
              "      <td>345</td>\n",
              "      <td>-+----------</td>\n",
              "      <td>0(2)0(2)0(2)0(3)0(3)0(4)0(4)</td>\n",
              "      <td>NaN</td>\n",
              "      <td>1</td>\n",
              "      <td>5</td>\n",
              "      <td>27</td>\n",
              "    </tr>\n",
              "    <tr>\n",
              "      <th>2</th>\n",
              "      <td>3</td>\n",
              "      <td>132</td>\n",
              "      <td>11</td>\n",
              "      <td>Ж</td>\n",
              "      <td>340</td>\n",
              "      <td>-+----------</td>\n",
              "      <td>0(2)0(2)0(2)0(3)0(3)0(4)0(4)</td>\n",
              "      <td>NaN</td>\n",
              "      <td>1</td>\n",
              "      <td>5</td>\n",
              "      <td>27</td>\n",
              "    </tr>\n",
              "    <tr>\n",
              "      <th>3</th>\n",
              "      <td>4</td>\n",
              "      <td>134</td>\n",
              "      <td>11</td>\n",
              "      <td>Ж</td>\n",
              "      <td>339</td>\n",
              "      <td>-+----------</td>\n",
              "      <td>0(2)0(2)0(2)0(3)0(3)0(4)0(4)</td>\n",
              "      <td>NaN</td>\n",
              "      <td>1</td>\n",
              "      <td>5</td>\n",
              "      <td>27</td>\n",
              "    </tr>\n",
              "    <tr>\n",
              "      <th>4</th>\n",
              "      <td>5</td>\n",
              "      <td>136</td>\n",
              "      <td>11</td>\n",
              "      <td>Ж</td>\n",
              "      <td>348</td>\n",
              "      <td>--------+---</td>\n",
              "      <td>0(2)0(2)0(2)0(3)0(3)0(4)0(4)</td>\n",
              "      <td>NaN</td>\n",
              "      <td>1</td>\n",
              "      <td>5</td>\n",
              "      <td>27</td>\n",
              "    </tr>\n",
              "    <tr>\n",
              "      <th>...</th>\n",
              "      <td>...</td>\n",
              "      <td>...</td>\n",
              "      <td>...</td>\n",
              "      <td>...</td>\n",
              "      <td>...</td>\n",
              "      <td>...</td>\n",
              "      <td>...</td>\n",
              "      <td>...</td>\n",
              "      <td>...</td>\n",
              "      <td>...</td>\n",
              "      <td>...</td>\n",
              "    </tr>\n",
              "    <tr>\n",
              "      <th>2351</th>\n",
              "      <td>2352</td>\n",
              "      <td>136</td>\n",
              "      <td>11</td>\n",
              "      <td>М</td>\n",
              "      <td>337</td>\n",
              "      <td>++++++++++++</td>\n",
              "      <td>2(2)2(2)2(2)3(3)3(3)0(4)1(4)</td>\n",
              "      <td>NaN</td>\n",
              "      <td>25</td>\n",
              "      <td>92</td>\n",
              "      <td>27</td>\n",
              "    </tr>\n",
              "    <tr>\n",
              "      <th>2352</th>\n",
              "      <td>2353</td>\n",
              "      <td>136</td>\n",
              "      <td>11</td>\n",
              "      <td>М</td>\n",
              "      <td>341</td>\n",
              "      <td>++-+++++++++</td>\n",
              "      <td>2(2)2(2)1(2)2(3)2(3)4(4)1(4)</td>\n",
              "      <td>NaN</td>\n",
              "      <td>25</td>\n",
              "      <td>92</td>\n",
              "      <td>27</td>\n",
              "    </tr>\n",
              "    <tr>\n",
              "      <th>2353</th>\n",
              "      <td>2354</td>\n",
              "      <td>136</td>\n",
              "      <td>11</td>\n",
              "      <td>М</td>\n",
              "      <td>341</td>\n",
              "      <td>++++++++++++</td>\n",
              "      <td>2(2)1(2)2(2)1(3)3(3)4(4)2(4)</td>\n",
              "      <td>NaN</td>\n",
              "      <td>27</td>\n",
              "      <td>96</td>\n",
              "      <td>27</td>\n",
              "    </tr>\n",
              "    <tr>\n",
              "      <th>2354</th>\n",
              "      <td>2355</td>\n",
              "      <td>136</td>\n",
              "      <td>11</td>\n",
              "      <td>М</td>\n",
              "      <td>343</td>\n",
              "      <td>++++++++++++</td>\n",
              "      <td>2(2)2(2)2(2)0(3)3(3)4(4)2(4)</td>\n",
              "      <td>NaN</td>\n",
              "      <td>27</td>\n",
              "      <td>96</td>\n",
              "      <td>27</td>\n",
              "    </tr>\n",
              "    <tr>\n",
              "      <th>2355</th>\n",
              "      <td>2356</td>\n",
              "      <td>136</td>\n",
              "      <td>11</td>\n",
              "      <td>Ж</td>\n",
              "      <td>337</td>\n",
              "      <td>++++++++++++</td>\n",
              "      <td>2(2)2(2)2(2)0(3)3(3)4(4)2(4)</td>\n",
              "      <td>NaN</td>\n",
              "      <td>27</td>\n",
              "      <td>96</td>\n",
              "      <td>27</td>\n",
              "    </tr>\n",
              "  </tbody>\n",
              "</table>\n",
              "<p>2356 rows × 11 columns</p>\n",
              "</div>\n",
              "    <div class=\"colab-df-buttons\">\n",
              "\n",
              "  <div class=\"colab-df-container\">\n",
              "    <button class=\"colab-df-convert\" onclick=\"convertToInteractive('df-f03955ff-2f3a-48a1-a99a-1eaf0de5fbec')\"\n",
              "            title=\"Convert this dataframe to an interactive table.\"\n",
              "            style=\"display:none;\">\n",
              "\n",
              "  <svg xmlns=\"http://www.w3.org/2000/svg\" height=\"24px\" viewBox=\"0 -960 960 960\">\n",
              "    <path d=\"M120-120v-720h720v720H120Zm60-500h600v-160H180v160Zm220 220h160v-160H400v160Zm0 220h160v-160H400v160ZM180-400h160v-160H180v160Zm440 0h160v-160H620v160ZM180-180h160v-160H180v160Zm440 0h160v-160H620v160Z\"/>\n",
              "  </svg>\n",
              "    </button>\n",
              "\n",
              "  <style>\n",
              "    .colab-df-container {\n",
              "      display:flex;\n",
              "      gap: 12px;\n",
              "    }\n",
              "\n",
              "    .colab-df-convert {\n",
              "      background-color: #E8F0FE;\n",
              "      border: none;\n",
              "      border-radius: 50%;\n",
              "      cursor: pointer;\n",
              "      display: none;\n",
              "      fill: #1967D2;\n",
              "      height: 32px;\n",
              "      padding: 0 0 0 0;\n",
              "      width: 32px;\n",
              "    }\n",
              "\n",
              "    .colab-df-convert:hover {\n",
              "      background-color: #E2EBFA;\n",
              "      box-shadow: 0px 1px 2px rgba(60, 64, 67, 0.3), 0px 1px 3px 1px rgba(60, 64, 67, 0.15);\n",
              "      fill: #174EA6;\n",
              "    }\n",
              "\n",
              "    .colab-df-buttons div {\n",
              "      margin-bottom: 4px;\n",
              "    }\n",
              "\n",
              "    [theme=dark] .colab-df-convert {\n",
              "      background-color: #3B4455;\n",
              "      fill: #D2E3FC;\n",
              "    }\n",
              "\n",
              "    [theme=dark] .colab-df-convert:hover {\n",
              "      background-color: #434B5C;\n",
              "      box-shadow: 0px 1px 3px 1px rgba(0, 0, 0, 0.15);\n",
              "      filter: drop-shadow(0px 1px 2px rgba(0, 0, 0, 0.3));\n",
              "      fill: #FFFFFF;\n",
              "    }\n",
              "  </style>\n",
              "\n",
              "    <script>\n",
              "      const buttonEl =\n",
              "        document.querySelector('#df-f03955ff-2f3a-48a1-a99a-1eaf0de5fbec button.colab-df-convert');\n",
              "      buttonEl.style.display =\n",
              "        google.colab.kernel.accessAllowed ? 'block' : 'none';\n",
              "\n",
              "      async function convertToInteractive(key) {\n",
              "        const element = document.querySelector('#df-f03955ff-2f3a-48a1-a99a-1eaf0de5fbec');\n",
              "        const dataTable =\n",
              "          await google.colab.kernel.invokeFunction('convertToInteractive',\n",
              "                                                    [key], {});\n",
              "        if (!dataTable) return;\n",
              "\n",
              "        const docLinkHtml = 'Like what you see? Visit the ' +\n",
              "          '<a target=\"_blank\" href=https://colab.research.google.com/notebooks/data_table.ipynb>data table notebook</a>'\n",
              "          + ' to learn more about interactive tables.';\n",
              "        element.innerHTML = '';\n",
              "        dataTable['output_type'] = 'display_data';\n",
              "        await google.colab.output.renderOutput(dataTable, element);\n",
              "        const docLink = document.createElement('div');\n",
              "        docLink.innerHTML = docLinkHtml;\n",
              "        element.appendChild(docLink);\n",
              "      }\n",
              "    </script>\n",
              "  </div>\n",
              "\n",
              "\n",
              "<div id=\"df-7dec4416-2521-4f12-af92-b91df4273da0\">\n",
              "  <button class=\"colab-df-quickchart\" onclick=\"quickchart('df-7dec4416-2521-4f12-af92-b91df4273da0')\"\n",
              "            title=\"Suggest charts.\"\n",
              "            style=\"display:none;\">\n",
              "\n",
              "<svg xmlns=\"http://www.w3.org/2000/svg\" height=\"24px\"viewBox=\"0 0 24 24\"\n",
              "     width=\"24px\">\n",
              "    <g>\n",
              "        <path d=\"M19 3H5c-1.1 0-2 .9-2 2v14c0 1.1.9 2 2 2h14c1.1 0 2-.9 2-2V5c0-1.1-.9-2-2-2zM9 17H7v-7h2v7zm4 0h-2V7h2v10zm4 0h-2v-4h2v4z\"/>\n",
              "    </g>\n",
              "</svg>\n",
              "  </button>\n",
              "\n",
              "<style>\n",
              "  .colab-df-quickchart {\n",
              "      --bg-color: #E8F0FE;\n",
              "      --fill-color: #1967D2;\n",
              "      --hover-bg-color: #E2EBFA;\n",
              "      --hover-fill-color: #174EA6;\n",
              "      --disabled-fill-color: #AAA;\n",
              "      --disabled-bg-color: #DDD;\n",
              "  }\n",
              "\n",
              "  [theme=dark] .colab-df-quickchart {\n",
              "      --bg-color: #3B4455;\n",
              "      --fill-color: #D2E3FC;\n",
              "      --hover-bg-color: #434B5C;\n",
              "      --hover-fill-color: #FFFFFF;\n",
              "      --disabled-bg-color: #3B4455;\n",
              "      --disabled-fill-color: #666;\n",
              "  }\n",
              "\n",
              "  .colab-df-quickchart {\n",
              "    background-color: var(--bg-color);\n",
              "    border: none;\n",
              "    border-radius: 50%;\n",
              "    cursor: pointer;\n",
              "    display: none;\n",
              "    fill: var(--fill-color);\n",
              "    height: 32px;\n",
              "    padding: 0;\n",
              "    width: 32px;\n",
              "  }\n",
              "\n",
              "  .colab-df-quickchart:hover {\n",
              "    background-color: var(--hover-bg-color);\n",
              "    box-shadow: 0 1px 2px rgba(60, 64, 67, 0.3), 0 1px 3px 1px rgba(60, 64, 67, 0.15);\n",
              "    fill: var(--button-hover-fill-color);\n",
              "  }\n",
              "\n",
              "  .colab-df-quickchart-complete:disabled,\n",
              "  .colab-df-quickchart-complete:disabled:hover {\n",
              "    background-color: var(--disabled-bg-color);\n",
              "    fill: var(--disabled-fill-color);\n",
              "    box-shadow: none;\n",
              "  }\n",
              "\n",
              "  .colab-df-spinner {\n",
              "    border: 2px solid var(--fill-color);\n",
              "    border-color: transparent;\n",
              "    border-bottom-color: var(--fill-color);\n",
              "    animation:\n",
              "      spin 1s steps(1) infinite;\n",
              "  }\n",
              "\n",
              "  @keyframes spin {\n",
              "    0% {\n",
              "      border-color: transparent;\n",
              "      border-bottom-color: var(--fill-color);\n",
              "      border-left-color: var(--fill-color);\n",
              "    }\n",
              "    20% {\n",
              "      border-color: transparent;\n",
              "      border-left-color: var(--fill-color);\n",
              "      border-top-color: var(--fill-color);\n",
              "    }\n",
              "    30% {\n",
              "      border-color: transparent;\n",
              "      border-left-color: var(--fill-color);\n",
              "      border-top-color: var(--fill-color);\n",
              "      border-right-color: var(--fill-color);\n",
              "    }\n",
              "    40% {\n",
              "      border-color: transparent;\n",
              "      border-right-color: var(--fill-color);\n",
              "      border-top-color: var(--fill-color);\n",
              "    }\n",
              "    60% {\n",
              "      border-color: transparent;\n",
              "      border-right-color: var(--fill-color);\n",
              "    }\n",
              "    80% {\n",
              "      border-color: transparent;\n",
              "      border-right-color: var(--fill-color);\n",
              "      border-bottom-color: var(--fill-color);\n",
              "    }\n",
              "    90% {\n",
              "      border-color: transparent;\n",
              "      border-bottom-color: var(--fill-color);\n",
              "    }\n",
              "  }\n",
              "</style>\n",
              "\n",
              "  <script>\n",
              "    async function quickchart(key) {\n",
              "      const quickchartButtonEl =\n",
              "        document.querySelector('#' + key + ' button');\n",
              "      quickchartButtonEl.disabled = true;  // To prevent multiple clicks.\n",
              "      quickchartButtonEl.classList.add('colab-df-spinner');\n",
              "      try {\n",
              "        const charts = await google.colab.kernel.invokeFunction(\n",
              "            'suggestCharts', [key], {});\n",
              "      } catch (error) {\n",
              "        console.error('Error during call to suggestCharts:', error);\n",
              "      }\n",
              "      quickchartButtonEl.classList.remove('colab-df-spinner');\n",
              "      quickchartButtonEl.classList.add('colab-df-quickchart-complete');\n",
              "    }\n",
              "    (() => {\n",
              "      let quickchartButtonEl =\n",
              "        document.querySelector('#df-7dec4416-2521-4f12-af92-b91df4273da0 button');\n",
              "      quickchartButtonEl.style.display =\n",
              "        google.colab.kernel.accessAllowed ? 'block' : 'none';\n",
              "    })();\n",
              "  </script>\n",
              "</div>\n",
              "    </div>\n",
              "  </div>\n"
            ]
          },
          "metadata": {},
          "execution_count": 3
        }
      ]
    },
    {
      "cell_type": "code",
      "source": [],
      "metadata": {
        "id": "aw9vWAnnC5WX"
      },
      "execution_count": null,
      "outputs": []
    },
    {
      "cell_type": "code",
      "source": [],
      "metadata": {
        "id": "O-2Ozb8X53Zm"
      },
      "execution_count": null,
      "outputs": []
    },
    {
      "cell_type": "code",
      "source": [],
      "metadata": {
        "id": "VfGZUOs353dH"
      },
      "execution_count": null,
      "outputs": []
    },
    {
      "cell_type": "code",
      "source": [],
      "metadata": {
        "id": "A2hdSQaW53hH"
      },
      "execution_count": null,
      "outputs": []
    },
    {
      "cell_type": "markdown",
      "source": [
        "1.делайте описательную статистику полученных данных."
      ],
      "metadata": {
        "id": "CDKggJF27xX7"
      }
    },
    {
      "cell_type": "code",
      "source": [
        "df.describe()"
      ],
      "metadata": {
        "colab": {
          "base_uri": "https://localhost:8080/",
          "height": 300
        },
        "id": "l05UGZac1IHq",
        "outputId": "acb1020f-b486-4dd5-96f2-6c48beb4b9db"
      },
      "execution_count": null,
      "outputs": [
        {
          "output_type": "execute_result",
          "data": {
            "text/plain": [
              "                 №      № школы  Номер варианта  Устная часть  Первичный балл  \\\n",
              "count  2356.000000  2356.000000     2356.000000           0.0     2356.000000   \n",
              "mean   1178.500000   132.005518      338.273769           NaN       10.123939   \n",
              "std     680.262939     5.037984       53.660878           NaN        3.820484   \n",
              "min       1.000000   121.000000      101.000000           NaN        1.000000   \n",
              "25%     589.750000   127.000000      339.000000           NaN        7.000000   \n",
              "50%    1178.500000   135.000000      342.500000           NaN       10.000000   \n",
              "75%    1767.250000   136.000000      346.000000           NaN       13.000000   \n",
              "max    2356.000000   137.000000      506.000000           NaN       27.000000   \n",
              "\n",
              "              Балл  Минимальный балл  \n",
              "count  2356.000000            2356.0  \n",
              "mean     49.255093              27.0  \n",
              "std      17.880420               0.0  \n",
              "min       5.000000              27.0  \n",
              "25%      33.000000              27.0  \n",
              "50%      50.000000              27.0  \n",
              "75%      68.000000              27.0  \n",
              "max      96.000000              27.0  "
            ],
            "text/html": [
              "\n",
              "  <div id=\"df-131e8e7b-6388-461e-802b-7adfcc002349\" class=\"colab-df-container\">\n",
              "    <div>\n",
              "<style scoped>\n",
              "    .dataframe tbody tr th:only-of-type {\n",
              "        vertical-align: middle;\n",
              "    }\n",
              "\n",
              "    .dataframe tbody tr th {\n",
              "        vertical-align: top;\n",
              "    }\n",
              "\n",
              "    .dataframe thead th {\n",
              "        text-align: right;\n",
              "    }\n",
              "</style>\n",
              "<table border=\"1\" class=\"dataframe\">\n",
              "  <thead>\n",
              "    <tr style=\"text-align: right;\">\n",
              "      <th></th>\n",
              "      <th>№</th>\n",
              "      <th>№ школы</th>\n",
              "      <th>Номер варианта</th>\n",
              "      <th>Устная часть</th>\n",
              "      <th>Первичный балл</th>\n",
              "      <th>Балл</th>\n",
              "      <th>Минимальный балл</th>\n",
              "    </tr>\n",
              "  </thead>\n",
              "  <tbody>\n",
              "    <tr>\n",
              "      <th>count</th>\n",
              "      <td>2356.000000</td>\n",
              "      <td>2356.000000</td>\n",
              "      <td>2356.000000</td>\n",
              "      <td>0.0</td>\n",
              "      <td>2356.000000</td>\n",
              "      <td>2356.000000</td>\n",
              "      <td>2356.0</td>\n",
              "    </tr>\n",
              "    <tr>\n",
              "      <th>mean</th>\n",
              "      <td>1178.500000</td>\n",
              "      <td>132.005518</td>\n",
              "      <td>338.273769</td>\n",
              "      <td>NaN</td>\n",
              "      <td>10.123939</td>\n",
              "      <td>49.255093</td>\n",
              "      <td>27.0</td>\n",
              "    </tr>\n",
              "    <tr>\n",
              "      <th>std</th>\n",
              "      <td>680.262939</td>\n",
              "      <td>5.037984</td>\n",
              "      <td>53.660878</td>\n",
              "      <td>NaN</td>\n",
              "      <td>3.820484</td>\n",
              "      <td>17.880420</td>\n",
              "      <td>0.0</td>\n",
              "    </tr>\n",
              "    <tr>\n",
              "      <th>min</th>\n",
              "      <td>1.000000</td>\n",
              "      <td>121.000000</td>\n",
              "      <td>101.000000</td>\n",
              "      <td>NaN</td>\n",
              "      <td>1.000000</td>\n",
              "      <td>5.000000</td>\n",
              "      <td>27.0</td>\n",
              "    </tr>\n",
              "    <tr>\n",
              "      <th>25%</th>\n",
              "      <td>589.750000</td>\n",
              "      <td>127.000000</td>\n",
              "      <td>339.000000</td>\n",
              "      <td>NaN</td>\n",
              "      <td>7.000000</td>\n",
              "      <td>33.000000</td>\n",
              "      <td>27.0</td>\n",
              "    </tr>\n",
              "    <tr>\n",
              "      <th>50%</th>\n",
              "      <td>1178.500000</td>\n",
              "      <td>135.000000</td>\n",
              "      <td>342.500000</td>\n",
              "      <td>NaN</td>\n",
              "      <td>10.000000</td>\n",
              "      <td>50.000000</td>\n",
              "      <td>27.0</td>\n",
              "    </tr>\n",
              "    <tr>\n",
              "      <th>75%</th>\n",
              "      <td>1767.250000</td>\n",
              "      <td>136.000000</td>\n",
              "      <td>346.000000</td>\n",
              "      <td>NaN</td>\n",
              "      <td>13.000000</td>\n",
              "      <td>68.000000</td>\n",
              "      <td>27.0</td>\n",
              "    </tr>\n",
              "    <tr>\n",
              "      <th>max</th>\n",
              "      <td>2356.000000</td>\n",
              "      <td>137.000000</td>\n",
              "      <td>506.000000</td>\n",
              "      <td>NaN</td>\n",
              "      <td>27.000000</td>\n",
              "      <td>96.000000</td>\n",
              "      <td>27.0</td>\n",
              "    </tr>\n",
              "  </tbody>\n",
              "</table>\n",
              "</div>\n",
              "    <div class=\"colab-df-buttons\">\n",
              "\n",
              "  <div class=\"colab-df-container\">\n",
              "    <button class=\"colab-df-convert\" onclick=\"convertToInteractive('df-131e8e7b-6388-461e-802b-7adfcc002349')\"\n",
              "            title=\"Convert this dataframe to an interactive table.\"\n",
              "            style=\"display:none;\">\n",
              "\n",
              "  <svg xmlns=\"http://www.w3.org/2000/svg\" height=\"24px\" viewBox=\"0 -960 960 960\">\n",
              "    <path d=\"M120-120v-720h720v720H120Zm60-500h600v-160H180v160Zm220 220h160v-160H400v160Zm0 220h160v-160H400v160ZM180-400h160v-160H180v160Zm440 0h160v-160H620v160ZM180-180h160v-160H180v160Zm440 0h160v-160H620v160Z\"/>\n",
              "  </svg>\n",
              "    </button>\n",
              "\n",
              "  <style>\n",
              "    .colab-df-container {\n",
              "      display:flex;\n",
              "      gap: 12px;\n",
              "    }\n",
              "\n",
              "    .colab-df-convert {\n",
              "      background-color: #E8F0FE;\n",
              "      border: none;\n",
              "      border-radius: 50%;\n",
              "      cursor: pointer;\n",
              "      display: none;\n",
              "      fill: #1967D2;\n",
              "      height: 32px;\n",
              "      padding: 0 0 0 0;\n",
              "      width: 32px;\n",
              "    }\n",
              "\n",
              "    .colab-df-convert:hover {\n",
              "      background-color: #E2EBFA;\n",
              "      box-shadow: 0px 1px 2px rgba(60, 64, 67, 0.3), 0px 1px 3px 1px rgba(60, 64, 67, 0.15);\n",
              "      fill: #174EA6;\n",
              "    }\n",
              "\n",
              "    .colab-df-buttons div {\n",
              "      margin-bottom: 4px;\n",
              "    }\n",
              "\n",
              "    [theme=dark] .colab-df-convert {\n",
              "      background-color: #3B4455;\n",
              "      fill: #D2E3FC;\n",
              "    }\n",
              "\n",
              "    [theme=dark] .colab-df-convert:hover {\n",
              "      background-color: #434B5C;\n",
              "      box-shadow: 0px 1px 3px 1px rgba(0, 0, 0, 0.15);\n",
              "      filter: drop-shadow(0px 1px 2px rgba(0, 0, 0, 0.3));\n",
              "      fill: #FFFFFF;\n",
              "    }\n",
              "  </style>\n",
              "\n",
              "    <script>\n",
              "      const buttonEl =\n",
              "        document.querySelector('#df-131e8e7b-6388-461e-802b-7adfcc002349 button.colab-df-convert');\n",
              "      buttonEl.style.display =\n",
              "        google.colab.kernel.accessAllowed ? 'block' : 'none';\n",
              "\n",
              "      async function convertToInteractive(key) {\n",
              "        const element = document.querySelector('#df-131e8e7b-6388-461e-802b-7adfcc002349');\n",
              "        const dataTable =\n",
              "          await google.colab.kernel.invokeFunction('convertToInteractive',\n",
              "                                                    [key], {});\n",
              "        if (!dataTable) return;\n",
              "\n",
              "        const docLinkHtml = 'Like what you see? Visit the ' +\n",
              "          '<a target=\"_blank\" href=https://colab.research.google.com/notebooks/data_table.ipynb>data table notebook</a>'\n",
              "          + ' to learn more about interactive tables.';\n",
              "        element.innerHTML = '';\n",
              "        dataTable['output_type'] = 'display_data';\n",
              "        await google.colab.output.renderOutput(dataTable, element);\n",
              "        const docLink = document.createElement('div');\n",
              "        docLink.innerHTML = docLinkHtml;\n",
              "        element.appendChild(docLink);\n",
              "      }\n",
              "    </script>\n",
              "  </div>\n",
              "\n",
              "\n",
              "<div id=\"df-2566a313-cabc-42fa-8648-2a359d1a702f\">\n",
              "  <button class=\"colab-df-quickchart\" onclick=\"quickchart('df-2566a313-cabc-42fa-8648-2a359d1a702f')\"\n",
              "            title=\"Suggest charts.\"\n",
              "            style=\"display:none;\">\n",
              "\n",
              "<svg xmlns=\"http://www.w3.org/2000/svg\" height=\"24px\"viewBox=\"0 0 24 24\"\n",
              "     width=\"24px\">\n",
              "    <g>\n",
              "        <path d=\"M19 3H5c-1.1 0-2 .9-2 2v14c0 1.1.9 2 2 2h14c1.1 0 2-.9 2-2V5c0-1.1-.9-2-2-2zM9 17H7v-7h2v7zm4 0h-2V7h2v10zm4 0h-2v-4h2v4z\"/>\n",
              "    </g>\n",
              "</svg>\n",
              "  </button>\n",
              "\n",
              "<style>\n",
              "  .colab-df-quickchart {\n",
              "      --bg-color: #E8F0FE;\n",
              "      --fill-color: #1967D2;\n",
              "      --hover-bg-color: #E2EBFA;\n",
              "      --hover-fill-color: #174EA6;\n",
              "      --disabled-fill-color: #AAA;\n",
              "      --disabled-bg-color: #DDD;\n",
              "  }\n",
              "\n",
              "  [theme=dark] .colab-df-quickchart {\n",
              "      --bg-color: #3B4455;\n",
              "      --fill-color: #D2E3FC;\n",
              "      --hover-bg-color: #434B5C;\n",
              "      --hover-fill-color: #FFFFFF;\n",
              "      --disabled-bg-color: #3B4455;\n",
              "      --disabled-fill-color: #666;\n",
              "  }\n",
              "\n",
              "  .colab-df-quickchart {\n",
              "    background-color: var(--bg-color);\n",
              "    border: none;\n",
              "    border-radius: 50%;\n",
              "    cursor: pointer;\n",
              "    display: none;\n",
              "    fill: var(--fill-color);\n",
              "    height: 32px;\n",
              "    padding: 0;\n",
              "    width: 32px;\n",
              "  }\n",
              "\n",
              "  .colab-df-quickchart:hover {\n",
              "    background-color: var(--hover-bg-color);\n",
              "    box-shadow: 0 1px 2px rgba(60, 64, 67, 0.3), 0 1px 3px 1px rgba(60, 64, 67, 0.15);\n",
              "    fill: var(--button-hover-fill-color);\n",
              "  }\n",
              "\n",
              "  .colab-df-quickchart-complete:disabled,\n",
              "  .colab-df-quickchart-complete:disabled:hover {\n",
              "    background-color: var(--disabled-bg-color);\n",
              "    fill: var(--disabled-fill-color);\n",
              "    box-shadow: none;\n",
              "  }\n",
              "\n",
              "  .colab-df-spinner {\n",
              "    border: 2px solid var(--fill-color);\n",
              "    border-color: transparent;\n",
              "    border-bottom-color: var(--fill-color);\n",
              "    animation:\n",
              "      spin 1s steps(1) infinite;\n",
              "  }\n",
              "\n",
              "  @keyframes spin {\n",
              "    0% {\n",
              "      border-color: transparent;\n",
              "      border-bottom-color: var(--fill-color);\n",
              "      border-left-color: var(--fill-color);\n",
              "    }\n",
              "    20% {\n",
              "      border-color: transparent;\n",
              "      border-left-color: var(--fill-color);\n",
              "      border-top-color: var(--fill-color);\n",
              "    }\n",
              "    30% {\n",
              "      border-color: transparent;\n",
              "      border-left-color: var(--fill-color);\n",
              "      border-top-color: var(--fill-color);\n",
              "      border-right-color: var(--fill-color);\n",
              "    }\n",
              "    40% {\n",
              "      border-color: transparent;\n",
              "      border-right-color: var(--fill-color);\n",
              "      border-top-color: var(--fill-color);\n",
              "    }\n",
              "    60% {\n",
              "      border-color: transparent;\n",
              "      border-right-color: var(--fill-color);\n",
              "    }\n",
              "    80% {\n",
              "      border-color: transparent;\n",
              "      border-right-color: var(--fill-color);\n",
              "      border-bottom-color: var(--fill-color);\n",
              "    }\n",
              "    90% {\n",
              "      border-color: transparent;\n",
              "      border-bottom-color: var(--fill-color);\n",
              "    }\n",
              "  }\n",
              "</style>\n",
              "\n",
              "  <script>\n",
              "    async function quickchart(key) {\n",
              "      const quickchartButtonEl =\n",
              "        document.querySelector('#' + key + ' button');\n",
              "      quickchartButtonEl.disabled = true;  // To prevent multiple clicks.\n",
              "      quickchartButtonEl.classList.add('colab-df-spinner');\n",
              "      try {\n",
              "        const charts = await google.colab.kernel.invokeFunction(\n",
              "            'suggestCharts', [key], {});\n",
              "      } catch (error) {\n",
              "        console.error('Error during call to suggestCharts:', error);\n",
              "      }\n",
              "      quickchartButtonEl.classList.remove('colab-df-spinner');\n",
              "      quickchartButtonEl.classList.add('colab-df-quickchart-complete');\n",
              "    }\n",
              "    (() => {\n",
              "      let quickchartButtonEl =\n",
              "        document.querySelector('#df-2566a313-cabc-42fa-8648-2a359d1a702f button');\n",
              "      quickchartButtonEl.style.display =\n",
              "        google.colab.kernel.accessAllowed ? 'block' : 'none';\n",
              "    })();\n",
              "  </script>\n",
              "</div>\n",
              "    </div>\n",
              "  </div>\n"
            ]
          },
          "metadata": {},
          "execution_count": 30
        }
      ]
    },
    {
      "cell_type": "markdown",
      "source": [
        "3.Найдите процент учащихся, выполнивших работу ниже среднего."
      ],
      "metadata": {
        "id": "cPnlr9WO8LyN"
      }
    },
    {
      "cell_type": "code",
      "source": [
        "df_underav = df[df[\"Балл\"] < df['Балл'].mean()]"
      ],
      "metadata": {
        "id": "-Cbk7RIm1IKS"
      },
      "execution_count": null,
      "outputs": []
    },
    {
      "cell_type": "code",
      "source": [
        "df_underav.shape[0] / df.shape[0] * 100\n"
      ],
      "metadata": {
        "colab": {
          "base_uri": "https://localhost:8080/"
        },
        "id": "rvcFYIZc1IM0",
        "outputId": "8ef69871-c8bc-4a50-b94e-3bf183dca168"
      },
      "execution_count": null,
      "outputs": [
        {
          "output_type": "execute_result",
          "data": {
            "text/plain": [
              "48.00509337860781"
            ]
          },
          "metadata": {},
          "execution_count": 36
        }
      ]
    },
    {
      "cell_type": "markdown",
      "source": [
        "4.Найти процент учащихся не сдавших экзамен.\n"
      ],
      "metadata": {
        "id": "4GEBdd898UIW"
      }
    },
    {
      "cell_type": "code",
      "source": [
        "df_ne_sdal = df[df[\"Балл\"] < 27]\n",
        "df_ne_sdalperc = df_ne_sdal.shape[0] / df.shape[0] * 100\n",
        "df_ne_sdalperc"
      ],
      "metadata": {
        "colab": {
          "base_uri": "https://localhost:8080/"
        },
        "id": "W067IEdq55FI",
        "outputId": "d4fb259f-032c-44f4-d2f6-e8bc9472806f"
      },
      "execution_count": null,
      "outputs": [
        {
          "output_type": "execute_result",
          "data": {
            "text/plain": [
              "9.210526315789473"
            ]
          },
          "metadata": {},
          "execution_count": 52
        }
      ]
    },
    {
      "cell_type": "markdown",
      "source": [
        "5.Постройте круговую диаграмму, показывающую распределение сдавших и не сдавших экзамен."
      ],
      "metadata": {
        "id": "WieFEheU8Y7N"
      }
    },
    {
      "cell_type": "code",
      "source": [
        "import matplotlib.pyplot as plt\n",
        "import seaborn as sb"
      ],
      "metadata": {
        "id": "xZ3qHtc055IP"
      },
      "execution_count": null,
      "outputs": []
    },
    {
      "cell_type": "code",
      "source": [
        "data = [df_ne_sdalperc, 100-df_ne_sdalperc]"
      ],
      "metadata": {
        "id": "LyoxyQbS9r4w"
      },
      "execution_count": null,
      "outputs": []
    },
    {
      "cell_type": "code",
      "source": [
        "fig, ax = plt.subplots()\n",
        "ax.pie([df_ne_sdalperc, 100-df_ne_sdalperc], labels = [\"Не сдал\",\"Сдал\"], autopct='%1.0f%%')"
      ],
      "metadata": {
        "colab": {
          "base_uri": "https://localhost:8080/",
          "height": 510
        },
        "id": "UInlgjWX55LO",
        "outputId": "d3d54ff2-9684-4f1b-9019-b60208966d2e"
      },
      "execution_count": null,
      "outputs": [
        {
          "output_type": "execute_result",
          "data": {
            "text/plain": [
              "([<matplotlib.patches.Wedge at 0x7ffa7f7fe830>,\n",
              "  <matplotlib.patches.Wedge at 0x7ffa7f95b250>],\n",
              " [Text(1.054270231864076, 0.3138698427776513, 'Не сдал'),\n",
              "  Text(-1.0542702392107295, -0.31386981810067555, 'Сдал')],\n",
              " [Text(0.5750564901076778, 0.17120173242417341, '9%'),\n",
              "  Text(-0.5750564941149433, -0.17120171896400482, '91%')])"
            ]
          },
          "metadata": {},
          "execution_count": 53
        },
        {
          "output_type": "display_data",
          "data": {
            "text/plain": [
              "<Figure size 640x480 with 1 Axes>"
            ],
            "image/png": "[encoded data removed]"
          },
          "metadata": {}
        }
      ]
    },
    {
      "cell_type": "markdown",
      "source": [
        "6.Постройте ядерную оценку плотности распределению баллов за экзамен."
      ],
      "metadata": {
        "id": "iR198My58fjy"
      }
    },
    {
      "cell_type": "code",
      "source": [
        "\n",
        "sb.distplot(df['Балл'],hist=False)\n",
        "plt.show()"
      ],
      "metadata": {
        "colab": {
          "base_uri": "https://localhost:8080/",
          "height": 640
        },
        "id": "lYbGt8m-55OG",
        "outputId": "673d6771-659b-4be5-c20c-2b598dd2d6db"
      },
      "execution_count": null,
      "outputs": [
        {
          "output_type": "stream",
          "name": "stderr",
          "text": [
            "<ipython-input-54-b65bfd5c0241>:1: UserWarning: \n",
            "\n",
            "`distplot` is a deprecated function and will be removed in seaborn v0.14.0.\n",
            "\n",
            "Please adapt your code to use either `displot` (a figure-level function with\n",
            "similar flexibility) or `kdeplot` (an axes-level function for kernel density plots).\n",
            "\n",
            "For a guide to updating your code to use the new functions, please see\n",
            "https://gist.github.com/mwaskom/de44147ed2974457ad6372750bbe5751\n",
            "\n",
            "  sb.distplot(df['Балл'],hist=False)\n"
          ]
        },
        {
          "output_type": "display_data",
          "data": {
            "text/plain": [
              "<Figure size 640x480 with 1 Axes>"
            ],
            "image/png": "[encoded data removed]"
          },
          "metadata": {}
        }
      ]
    },
    {
      "cell_type": "code",
      "source": [
        "abc = df[\"Балл\"] +1\n",
        "abc"
      ],
      "metadata": {
        "colab": {
          "base_uri": "https://localhost:8080/"
        },
        "id": "afmRcS8255Q-",
        "outputId": "9284a0e1-24e2-401a-c74c-5710be6161c3"
      },
      "execution_count": null,
      "outputs": [
        {
          "output_type": "execute_result",
          "data": {
            "text/plain": [
              "0        6\n",
              "1        6\n",
              "2        6\n",
              "3        6\n",
              "4        6\n",
              "        ..\n",
              "2351    93\n",
              "2352    93\n",
              "2353    97\n",
              "2354    97\n",
              "2355    97\n",
              "Name: Балл, Length: 2356, dtype: int64"
            ]
          },
          "metadata": {},
          "execution_count": 64
        }
      ]
    },
    {
      "cell_type": "markdown",
      "source": [
        "7.Найдите процентное соотношение учащихся, сдавших экзамен на «отлично», «хорошо», «удовлетворительно», «неудовлетворительно»."
      ],
      "metadata": {
        "id": "xsaqDoMn8mVz"
      }
    },
    {
      "cell_type": "code",
      "source": [
        "def rating(mass):\n",
        "  print(mass[mass < 63].shape[0] / mass.shape[0] * 100, f'- 2')\n",
        "  print(mass[(mass > 62) &(mass < 77)].shape[0] / mass.shape[0] * 100, f'- 3')\n",
        "  print(mass[(mass > 76) &(mass < 91)].shape[0] / mass.shape[0] * 100, f'- 4')\n",
        "  print(mass[mass > 91].shape[0] / mass.shape[0] * 100, f'- 5')"
      ],
      "metadata": {
        "id": "dLa-JGtv55Tn"
      },
      "execution_count": null,
      "outputs": []
    },
    {
      "cell_type": "code",
      "source": [
        "rating(abc)"
      ],
      "metadata": {
        "colab": {
          "base_uri": "https://localhost:8080/"
        },
        "id": "SB-WYKJl_SVz",
        "outputId": "45937f4b-9c55-43b6-c20b-9d15b8982e79"
      },
      "execution_count": null,
      "outputs": [
        {
          "output_type": "stream",
          "name": "stdout",
          "text": [
            "67.06281833616299 - 2\n",
            "27.20713073005093 - 3\n",
            "5.390492359932089 - 4\n",
            "0.21222410865874364 - 5\n"
          ]
        }
      ]
    },
    {
      "cell_type": "markdown",
      "source": [
        "8.Какое процентное соотношение юношей и девушек писало данный экзамен?"
      ],
      "metadata": {
        "id": "pXZy0Qa-8wCa"
      }
    },
    {
      "cell_type": "code",
      "source": [
        "women = df[df[\"Пол\"] == \"Ж\"].shape[0]\n",
        "men = df[df[\"Пол\"] == \"М\"].shape[0]\n",
        "print(f\"женщин - {women/df.shape[0]*100}, мужчин - {men/df.shape[0]*100}\")"
      ],
      "metadata": {
        "colab": {
          "base_uri": "https://localhost:8080/"
        },
        "id": "1K5FBSWEBCqD",
        "outputId": "9cec1903-2d78-4fdd-a824-03e883e73991"
      },
      "execution_count": null,
      "outputs": [
        {
          "output_type": "stream",
          "name": "stdout",
          "text": [
            "женщин - 52.84380305602716, мужчин - 47.15619694397283\n"
          ]
        }
      ]
    },
    {
      "cell_type": "markdown",
      "source": [
        "9.Сколько школ принимало участие в экзамене?"
      ],
      "metadata": {
        "id": "-UP9YJX38zzS"
      }
    },
    {
      "cell_type": "code",
      "source": [
        "len(df[\"№ школы\"].unique())"
      ],
      "metadata": {
        "colab": {
          "base_uri": "https://localhost:8080/"
        },
        "id": "d15ab8eN_rC6",
        "outputId": "333e684d-9b8c-456d-9f29-b7b4fa57e856"
      },
      "execution_count": null,
      "outputs": [
        {
          "output_type": "execute_result",
          "data": {
            "text/plain": [
              "17"
            ]
          },
          "metadata": {},
          "execution_count": 82
        }
      ]
    },
    {
      "cell_type": "markdown",
      "source": [
        "10.Сколько всего заданий с кратким ответом? С развернутым ответо"
      ],
      "metadata": {
        "id": "vFoeH1Tw83V9"
      }
    },
    {
      "cell_type": "code",
      "source": [
        "\n",
        "print(f'заданий с кратким - {len(df[\"Задания с кратким ответом\"][0])}\\nc развернутым - {int(len(df[\"Задания с развёрнутым ответом\"][0])/4)}')"
      ],
      "metadata": {
        "colab": {
          "base_uri": "https://localhost:8080/"
        },
        "id": "ijaO24uDC6io",
        "outputId": "1c722cf6-d3e5-4549-ec2c-f85bbfc3811e"
      },
      "execution_count": 6,
      "outputs": [
        {
          "output_type": "stream",
          "name": "stdout",
          "text": [
            "заданий с кратким - 12\n",
            "c развернутым - 7\n"
          ]
        }
      ]
    },
    {
      "cell_type": "markdown",
      "source": [
        "11.Пусть задания с кратким ответом будут задания типа В. Соответственно всего по экзамену вопросов класса В: В\n",
        ", ... Вк\n",
        " Посчитайте процент выполненных и невыполненных заданий по каждому вопросу класса В."
      ],
      "metadata": {
        "id": "rJqShd8n8-ww"
      }
    },
    {
      "cell_type": "code",
      "source": [
        "def data_b(df):\n",
        "  count = 0\n",
        "  all_procent = 12 * df.shape[0]\n",
        "  for i in range(df.shape[0]):\n",
        "    count +=df[\"Задания с кратким ответом\"][i].count(\"+\")\n",
        "  print(f'{count}, количество выполненых заданий\\n{count/all_procent*100} процент выполненых\\n{(all_procent-count)/all_procent*100} процент не выполненных')\n",
        "data_b(df)"
      ],
      "metadata": {
        "colab": {
          "base_uri": "https://localhost:8080/"
        },
        "id": "OORO_aKTC6oK",
        "outputId": "fa74f4d9-7d76-4fa5-c179-b4d0c673bc1a"
      },
      "execution_count": 55,
      "outputs": [
        {
          "output_type": "stream",
          "name": "stdout",
          "text": [
            "20831, количество выполненых заданий\n",
            "73.68067345783814 процент выполненых\n",
            "26.319326542161857 процент не выполненных\n"
          ]
        }
      ]
    },
    {
      "cell_type": "markdown",
      "source": [
        "12.Аналогично и с типом С (ответы с развернутым ответом)"
      ],
      "metadata": {
        "id": "ZWV5tIXB9E8M"
      }
    },
    {
      "cell_type": "code",
      "source": [
        "def summ_str(stroka):\n",
        "  a = stroka\n",
        "  count = 0\n",
        "  for i in range(0,28,4):\n",
        "    if int(a[i]) != 0:\n",
        "      count += 1\n",
        "  # print(count)\n",
        "  return count\n",
        "def data_c(df):\n",
        "  all_procent = 7 * df.shape[0]\n",
        "  count = 0\n",
        "  for i in df[\"Задания с развёрнутым ответом\"]:\n",
        "\n",
        "    count += summ_str(i)\n",
        "  print(f'{count}, количество выполненых заданий\\n{count/all_procent*100} процент выполненых\\n{(all_procent-count)/all_procent*100} процент не выполненных')\n",
        "data_c(df)\n"
      ],
      "metadata": {
        "id": "YDDJpenDC6qm",
        "colab": {
          "base_uri": "https://localhost:8080/"
        },
        "outputId": "72954a0e-c2af-41ee-ae11-37856d36bad0"
      },
      "execution_count": 60,
      "outputs": [
        {
          "output_type": "stream",
          "name": "stdout",
          "text": [
            "1790, количество выполненых заданий\n",
            "10.853747271404316 процент выполненых\n",
            "89.14625272859568 процент не выполненных\n"
          ]
        }
      ]
    },
    {
      "cell_type": "markdown",
      "source": [
        "13.\n",
        "делайте анализ по двум школам:\n",
        "по всем выполненным заданиям типа В\n",
        "по заданиям типа С больше 50%\n",
        "по среднему баллу юношей и девушек"
      ],
      "metadata": {
        "id": "SP7pj1na9p9i"
      }
    },
    {
      "cell_type": "code",
      "source": [
        "df_124_school = df[df[\"№ школы\"] == 124].reset_index(drop=True)\n",
        "df_128_school = df[df[\"№ школы\"] == 128].reset_index(drop=True)\n",
        "\n"
      ],
      "metadata": {
        "id": "NyrnO12jC6tY"
      },
      "execution_count": 42,
      "outputs": []
    },
    {
      "cell_type": "code",
      "source": [
        "print(\"Школа 1\")\n",
        "data_b(df_124_school)\n",
        "print(\"Школа 2\")\n",
        "data_b(df_128_school)"
      ],
      "metadata": {
        "colab": {
          "base_uri": "https://localhost:8080/"
        },
        "id": "1Qosmf9i_MVa",
        "outputId": "253f7cdc-e2e6-4524-f59a-af32a7ad4980"
      },
      "execution_count": 56,
      "outputs": [
        {
          "output_type": "stream",
          "name": "stdout",
          "text": [
            "Школа 1\n",
            "252, количество выполненых заданий\n",
            "60.0 процент выполненых\n",
            "40.0 процент не выполненных\n",
            "Школа 2\n",
            "945, количество выполненых заданий\n",
            "69.69026548672566 процент выполненых\n",
            "30.30973451327434 процент не выполненных\n"
          ]
        }
      ]
    },
    {
      "cell_type": "code",
      "source": [
        "# во второй школе больше выполненных заданий, и больше процент выполнения след дети там умнее"
      ],
      "metadata": {
        "colab": {
          "base_uri": "https://localhost:8080/"
        },
        "id": "9DOZBYoI_Mbo",
        "outputId": "00268938-a619-46f5-80c9-99110361eb8b"
      },
      "execution_count": 33,
      "outputs": [
        {
          "output_type": "execute_result",
          "data": {
            "text/plain": [
              "1"
            ]
          },
          "metadata": {},
          "execution_count": 33
        }
      ]
    },
    {
      "cell_type": "code",
      "source": [
        "print(\"Школа 1\")\n",
        "data_c(df_124_school)\n",
        "print(\"Школа 2\")\n",
        "data_c(df_128_school)"
      ],
      "metadata": {
        "colab": {
          "base_uri": "https://localhost:8080/"
        },
        "id": "L2T6Bht8_MfM",
        "outputId": "5951ca1f-c0ed-4f9c-de76-7285aa004090"
      },
      "execution_count": 64,
      "outputs": [
        {
          "output_type": "stream",
          "name": "stdout",
          "text": [
            "Школа 1\n",
            "8, количество выполненых заданий\n",
            "3.2653061224489797 процент выполненых\n",
            "96.73469387755102 процент не выполненных\n",
            "Школа 2\n",
            "41, количество выполненых заданий\n",
            "5.183312262958281 процент выполненых\n",
            "94.81668773704172 процент не выполненных\n"
          ]
        }
      ]
    },
    {
      "cell_type": "code",
      "source": [
        "# со вторым заданием ученики второй школы справляются так же лучше\n",
        "\n"
      ],
      "metadata": {
        "colab": {
          "base_uri": "https://localhost:8080/"
        },
        "id": "ANFkRfFq_Mh6",
        "outputId": "1805f06d-35db-412e-c483-a71f36234718"
      },
      "execution_count": 54,
      "outputs": [
        {
          "output_type": "execute_result",
          "data": {
            "text/plain": [
              "113"
            ]
          },
          "metadata": {},
          "execution_count": 54
        }
      ]
    },
    {
      "cell_type": "code",
      "source": [
        "len_wom = df_124_school[df_124_school[\"Пол\"]==\"Ж\"].shape[0]\n",
        "print(f\"в первой школе {len_wom} девочек пришло на олимпиаду\")\n",
        "len_men = df_124_school[df_124_school[\"Пол\"]==\"М\"].shape[0]\n",
        "print(f\"в первой школе {len_men} мальчиков пришло на олимпиаду\")"
      ],
      "metadata": {
        "colab": {
          "base_uri": "https://localhost:8080/"
        },
        "id": "45oz79iq_Mkn",
        "outputId": "a9f692a9-fada-45f4-a1e4-61c9af28119c"
      },
      "execution_count": 69,
      "outputs": [
        {
          "output_type": "stream",
          "name": "stdout",
          "text": [
            "в первой школе 23 девочек пришло на олимпиаду\n",
            "в первой школе 12 мальчиков пришло на олимпиаду\n"
          ]
        }
      ]
    },
    {
      "cell_type": "code",
      "source": [
        "len_wom2 = df_128_school[df_128_school[\"Пол\"]==\"Ж\"].shape[0]\n",
        "print(f\"во второй школе {len_wom2} девочек пришло на олимпиаду\")\n",
        "len_men2 = df_128_school[df_128_school[\"Пол\"]==\"М\"].shape[0]\n",
        "print(f\"во второй школе {len_men2} мальчиков пришло на олимпиаду\")"
      ],
      "metadata": {
        "colab": {
          "base_uri": "https://localhost:8080/"
        },
        "id": "5zntnCDu_Mm5",
        "outputId": "179c2d36-3199-4091-9479-b898e14dfdca"
      },
      "execution_count": 70,
      "outputs": [
        {
          "output_type": "stream",
          "name": "stdout",
          "text": [
            "во второй школе 68 девочек пришло на олимпиаду\n",
            "во второй школе 45 мальчиков пришло на олимпиаду\n"
          ]
        }
      ]
    },
    {
      "cell_type": "code",
      "source": [
        "len_wom1 = df_124_school[df_124_school[\"Пол\"]==\"Ж\"]\n",
        "len_men1 = df_124_school[df_124_school[\"Пол\"]==\"М\"]\n",
        "print(f'средний балл девочек с первой школы {len_wom1[\"Балл\"].mean()}')\n",
        "print(f'средний балл мальчиков с первой школы {len_men1[\"Балл\"].mean()}')"
      ],
      "metadata": {
        "colab": {
          "base_uri": "https://localhost:8080/"
        },
        "id": "cS_BNQGE-QOJ",
        "outputId": "25eb0d10-82bb-44c4-80e9-efe3e891f980"
      },
      "execution_count": 79,
      "outputs": [
        {
          "output_type": "stream",
          "name": "stdout",
          "text": [
            "средний балл девочек с первой школы 34.17391304347826\n",
            "средний балл мальчиков с первой школы 41.083333333333336\n"
          ]
        }
      ]
    },
    {
      "cell_type": "code",
      "source": [
        "len_wom2 = df_128_school[df_128_school[\"Пол\"]==\"Ж\"]\n",
        "len_men2 = df_128_school[df_128_school[\"Пол\"]==\"М\"]\n",
        "print(f'средний балл девочек с первой школы {len_wom2[\"Балл\"].mean()}')\n",
        "print(f'средний балл мальчиков с первой школы {len_men2[\"Балл\"].mean()}')"
      ],
      "metadata": {
        "id": "nBYNBPHjO9-y",
        "colab": {
          "base_uri": "https://localhost:8080/"
        },
        "outputId": "ab8975ae-151e-4fdb-f27a-53fe5b93818d"
      },
      "execution_count": 80,
      "outputs": [
        {
          "output_type": "stream",
          "name": "stdout",
          "text": [
            "средний балл девочек с первой школы 44.9264705882353\n",
            "средний балл мальчиков с первой школы 42.888888888888886\n"
          ]
        }
      ]
    },
    {
      "cell_type": "code",
      "source": [
        "# в первой школе мальчики умнее девочек, во второй наоборот"
      ],
      "metadata": {
        "id": "QzpRpVM6QALm"
      },
      "execution_count": null,
      "outputs": []
    }
  ]
}