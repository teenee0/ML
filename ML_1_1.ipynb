{
  "nbformat": 4,
  "nbformat_minor": 0,
  "metadata": {
    "colab": {
      "provenance": []
    },
    "kernelspec": {
      "name": "python3",
      "display_name": "Python 3"
    },
    "language_info": {
      "name": "python"
    }
  },
  "cells": [
    {
      "cell_type": "code",
      "execution_count": null,
      "metadata": {
        "id": "BSQLtXI2U4kG"
      },
      "outputs": [],
      "source": [
        "import numpy as np\n",
        "import pandas as pd\n",
        "import matplotlib.pyplot as plt"
      ]
    },
    {
      "cell_type": "code",
      "source": [
        "x = pd.read_csv('https://raw.githubusercontent.com/koroteevmv/ML_course/2023/ML1.1%20linear%20regression/data/x.csv', index_col=0)['0']\n",
        "y = pd.read_csv('https://raw.githubusercontent.com/koroteevmv/ML_course/2023/ML1.1%20linear%20regression/data/y.csv', index_col=0)['0']"
      ],
      "metadata": {
        "id": "Ge8dBLfSVANo"
      },
      "execution_count": null,
      "outputs": []
    },
    {
      "cell_type": "code",
      "source": [
        "x.head()\n"
      ],
      "metadata": {
        "colab": {
          "base_uri": "https://localhost:8080/"
        },
        "id": "Gbf4EQqtVBru",
        "outputId": "6c82e664-9d67-4ff7-ffd6-7e732e104e9c"
      },
      "execution_count": null,
      "outputs": [
        {
          "output_type": "execute_result",
          "data": {
            "text/plain": [
              "0    1.462108\n",
              "1    1.133769\n",
              "2   -2.301539\n",
              "3    1.744812\n",
              "4    0.042214\n",
              "Name: 0, dtype: float64"
            ]
          },
          "metadata": {},
          "execution_count": 8
        }
      ]
    },
    {
      "cell_type": "code",
      "source": [
        "plt.figure()\n",
        "plt.scatter(x, y)\n",
        "plt.show()"
      ],
      "metadata": {
        "colab": {
          "base_uri": "https://localhost:8080/",
          "height": 430
        },
        "id": "_ixUXZO1VS2M",
        "outputId": "209ad494-af17-44f4-e07e-9ac9c3714ef7"
      },
      "execution_count": null,
      "outputs": [
        {
          "output_type": "display_data",
          "data": {
            "text/plain": [
              "<Figure size 640x480 with 1 Axes>"
            ],
            "image/png": "[encoded data removed]"
          },
          "metadata": {}
        }
      ]
    },
    {
      "cell_type": "code",
      "source": [
        "import numpy as np\n",
        "import matplotlib.pyplot as plt\n",
        "\n",
        "class Model(object):\n",
        "    \"\"\"Модель парной линейной регрессии\"\"\"\n",
        "    def __init__(self):\n",
        "        self.b0 = 0\n",
        "        self.b1 = 0\n",
        "\n",
        "    def predict(self, X):\n",
        "        return self.b0 + self.b1 * X\n",
        "\n",
        "    def error(self, X, Y):\n",
        "        return np.sum((self.predict(X) - Y) ** 2) / (2 * len(X))\n",
        "\n",
        "    def fit(self, X, Y, alpha=0.001, accuracy=0.000001, max_steps=5000):\n",
        "        steps, errors = [], []\n",
        "        step = 0\n",
        "        prev_err = self.error(X, Y)\n",
        "\n",
        "        for step in range(max_steps):\n",
        "            dJ0 = np.sum(self.predict(X) - Y) / len(X)\n",
        "            dJ1 = np.sum((self.predict(X) - Y) * X) / len(X)\n",
        "\n",
        "            # Адаптивная скорость обучения\n",
        "            while True:\n",
        "                self.b0_temp = self.b0 - alpha * dJ0\n",
        "                self.b1_temp = self.b1 - alpha * dJ1\n",
        "                new_err = self.error(X, Y)\n",
        "\n",
        "                if new_err < prev_err:\n",
        "                    break\n",
        "                else:\n",
        "                    alpha /= 2\n",
        "                    self.b0_temp = self.b0\n",
        "                    self.b1_temp = self.b1\n",
        "\n",
        "            self.b0 = self.b0_temp\n",
        "            self.b1 = self.b1_temp\n",
        "            steps.append(step)\n",
        "            errors.append(new_err)\n",
        "\n",
        "            # Проверка сходимости\n",
        "            if abs(new_err - prev_err) < accuracy:\n",
        "                break\n",
        "            prev_err = new_err\n",
        "\n",
        "        return steps, errors\n",
        "\n",
        "    def plot(self, X, Y):\n",
        "        plt.scatter(X, Y, label='Data')\n",
        "        plt.plot(X, self.predict(X), color='red', label='Regression Line')\n",
        "        plt.xlabel('X')\n",
        "        plt.ylabel('Y')\n",
        "        plt.legend()\n",
        "        plt.show()\n",
        "\n",
        "\n",
        "\n",
        "\n"
      ],
      "metadata": {
        "id": "eRgsb1koVWkd"
      },
      "execution_count": 8,
      "outputs": []
    },
    {
      "cell_type": "code",
      "source": [
        "import numpy as np\n",
        "\n",
        "# Создаем простые данные\n",
        "X = np.array([1, 2, 3, 4, 5])\n",
        "Y = 2 * X + 1\n",
        "\n",
        "# Инициализируем модель\n",
        "model = Model()\n",
        "\n",
        "# Обучаем модель с быстрыми параметрами\n",
        "steps, errors = model.fit(X, Y, alpha=0.1, max_steps=1000)\n",
        "\n",
        "# Выводим параметры модели\n",
        "print(\"Параметры модели:\")\n",
        "print(\"b0:\", model.b0)\n",
        "print(\"b1:\", model.b1)\n",
        "\n",
        "\n",
        "# Построим график\n",
        "model.plot(X, Y)\n",
        "\n",
        "# Выведем график изменения ошибки на каждом шаге обучения\n",
        "plt.plot(steps, errors)\n",
        "plt.xlabel(\"Шаги\")\n",
        "plt.ylabel(\"Ошибка\")\n",
        "plt.title(\"График изменения ошибки на каждом шаге обучения\")\n",
        "plt.show()\n",
        "\n"
      ],
      "metadata": {
        "id": "-QpbaqJUVje3"
      },
      "execution_count": null,
      "outputs": []
    }
  ]
}