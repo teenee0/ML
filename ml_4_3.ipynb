{
  "nbformat": 4,
  "nbformat_minor": 0,
  "metadata": {
    "colab": {
      "provenance": []
    },
    "kernelspec": {
      "name": "python3",
      "display_name": "Python 3"
    },
    "language_info": {
      "name": "python"
    }
  },
  "cells": [
    {
      "cell_type": "code",
      "source": [
        "import pandas as pd\n",
        "from sklearn.datasets import load_iris\n",
        "\n",
        "iris = load_iris()\n",
        "X=iris.data\n",
        "y=iris.target"
      ],
      "metadata": {
        "id": "ITuFQQxTglqz"
      },
      "execution_count": null,
      "outputs": []
    },
    {
      "cell_type": "code",
      "source": [
        "from sklearn.linear_model import LogisticRegression\n",
        "from sklearn.model_selection import train_test_split\n",
        "X_train, X_test, y_train, y_test = train_test_split(X, y, test_size=0.15, random_state=5)\n",
        "model = LogisticRegression(solver='liblinear')\n",
        "model.fit(X_train, y_train)\n",
        "y_pred = model.predict(X_test)"
      ],
      "metadata": {
        "id": "oN2u-1GWglfn"
      },
      "execution_count": null,
      "outputs": []
    },
    {
      "cell_type": "code",
      "source": [],
      "metadata": {
        "id": "N7Q9PxtXglne"
      },
      "execution_count": null,
      "outputs": []
    },
    {
      "cell_type": "markdown",
      "source": [
        "Изучите разбиение Leave-P-Out. Продемонстрируйте работу этого алгоритма на примере из лабораторной работы."
      ],
      "metadata": {
        "id": "0yJnnxx-Q-c4"
      }
    },
    {
      "cell_type": "code",
      "execution_count": null,
      "metadata": {
        "id": "YuHy3avJQdl-"
      },
      "outputs": [],
      "source": [
        "import pandas as pd\n",
        "from sklearn.datasets import load_iris\n",
        "from sklearn.linear_model import LogisticRegression\n",
        "from sklearn.model_selection import train_test_split, LeavePOut\n",
        "\n",
        "\n",
        "lpo = LeavePOut(p=5)\n",
        "\n",
        "\n",
        "accuracy_values = []\n",
        "\n",
        "\n",
        "for train_index, test_index in lpo.split(X):\n",
        "\n",
        "\n",
        "    X_train, X_test = X[train_index], X[test_index]\n",
        "    y_train, y_test = y[train_index], y[test_index]\n",
        "\n",
        "\n",
        "    model = LogisticRegression(solver='liblinear')\n",
        "    model.fit(X_train, y_train)\n",
        "\n",
        "\n",
        "    y_pred = model.predict(X_test)\n",
        "\n",
        "    # Вычисляем точность для предсказаний\n",
        "    accuracy = np.mean(y_pred == y_test)\n",
        "\n",
        "    # Добавляем значение точности в список значений\n",
        "    accuracy_values.append(accuracy)\n",
        "\n",
        "# Вычисляем среднее значение точности по всем итерациям\n",
        "avg_accuracy = np.mean(accuracy_values)\n",
        "\n",
        "print('Средняя точность:', avg_accuracy)\n"
      ]
    },
    {
      "cell_type": "markdown",
      "source": [
        "Изучите функцию cross_validate(). Продемонстрируйте работу этой функции на тех же данных."
      ],
      "metadata": {
        "id": "6AmRdPPGQ_QF"
      }
    },
    {
      "cell_type": "code",
      "source": [
        "import pandas as pd\n",
        "from sklearn.model_selection import cross_validate\n",
        "from sklearn.linear_model import LogisticRegression\n",
        "\n",
        "model = LogisticRegression(solver='liblinear')\n",
        "\n",
        "# Выполнение перекрестной проверки с помощью cross_validate()\n",
        "cv_results = cross_validate(model, X, y, cv=5, return_train_score=True)\n",
        "\n",
        "\n",
        "cv_results_df = pd.DataFrame(cv_results)\n",
        "print(cv_results_df)\n"
      ],
      "metadata": {
        "colab": {
          "base_uri": "https://localhost:8080/"
        },
        "id": "S8D0GzdWQ_YU",
        "outputId": "147d3dc9-2123-45de-b679-e0e66042b6b9"
      },
      "execution_count": null,
      "outputs": [
        {
          "output_type": "stream",
          "name": "stdout",
          "text": [
            "   fit_time  score_time  test_score  train_score\n",
            "0  0.004505    0.001225    1.000000     0.950000\n",
            "1  0.001809    0.000942    0.966667     0.966667\n",
            "2  0.009310    0.001174    0.933333     0.966667\n",
            "3  0.001817    0.003294    0.900000     0.975000\n",
            "4  0.004237    0.000988    1.000000     0.958333\n"
          ]
        }
      ]
    },
    {
      "cell_type": "markdown",
      "source": [
        "Оцените при помощи кросс-валидации другие метрики эффективности для этой же модели."
      ],
      "metadata": {
        "id": "fFMpckNoQ_gK"
      }
    },
    {
      "cell_type": "code",
      "source": [
        "model = LogisticRegression()\n",
        "\n",
        "# Метрики\n",
        "scoring = ['accuracy', 'precision_macro', 'recall_macro', 'f1_macro']\n",
        "\n",
        "# Выполнение перекрестной проверки с использованием кросс-валидации\n",
        "cv_results = cross_validate(model, X, y, cv=5, scoring=scoring, return_train_score=True)\n",
        "\n",
        "cv_results_df = pd.DataFrame(cv_results)\n",
        "print(cv_results_df)"
      ],
      "metadata": {
        "colab": {
          "base_uri": "https://localhost:8080/"
        },
        "id": "yl4htLEFQ_ln",
        "outputId": "9069a82e-c072-4a37-9c53-cd393947dfa7"
      },
      "execution_count": null,
      "outputs": [
        {
          "output_type": "stream",
          "name": "stdout",
          "text": [
            "   fit_time  score_time  test_accuracy  train_accuracy  test_precision_macro  \\\n",
            "0  0.031483    0.004709       0.966667        0.966667              0.969697   \n",
            "1  0.019446    0.006003       1.000000        0.966667              1.000000   \n",
            "2  0.016728    0.004250       0.933333        0.983333              0.944444   \n",
            "3  0.016639    0.004110       0.966667        0.983333              0.969697   \n",
            "4  0.015317    0.004206       1.000000        0.975000              1.000000   \n",
            "\n",
            "   train_precision_macro  test_recall_macro  train_recall_macro  \\\n",
            "0               0.967419           0.966667            0.966667   \n",
            "1               0.967419           1.000000            0.966667   \n",
            "2               0.983333           0.933333            0.983333   \n",
            "3               0.984127           0.966667            0.983333   \n",
            "4               0.975193           1.000000            0.975000   \n",
            "\n",
            "   test_f1_macro  train_f1_macro  \n",
            "0       0.966583        0.966646  \n",
            "1       1.000000        0.966646  \n",
            "2       0.932660        0.983333  \n",
            "3       0.966583        0.983323  \n",
            "4       1.000000        0.974996  \n"
          ]
        },
        {
          "output_type": "stream",
          "name": "stderr",
          "text": [
            "/usr/local/lib/python3.10/dist-packages/sklearn/linear_model/_logistic.py:458: ConvergenceWarning: lbfgs failed to converge (status=1):\n",
            "STOP: TOTAL NO. of ITERATIONS REACHED LIMIT.\n",
            "\n",
            "Increase the number of iterations (max_iter) or scale the data as shown in:\n",
            "    https://scikit-learn.org/stable/modules/preprocessing.html\n",
            "Please also refer to the documentation for alternative solver options:\n",
            "    https://scikit-learn.org/stable/modules/linear_model.html#logistic-regression\n",
            "  n_iter_i = _check_optimize_result(\n"
          ]
        }
      ]
    },
    {
      "cell_type": "markdown",
      "source": [
        "Сравните кросс-валидированные результаты работы нескольких моделей на одних и тех же данных."
      ],
      "metadata": {
        "id": "HppWl0P-Q_qj"
      }
    },
    {
      "cell_type": "code",
      "source": [
        "import pandas as pd\n",
        "from sklearn.datasets import load_iris\n",
        "from sklearn.model_selection import cross_validate\n",
        "from sklearn.linear_model import LogisticRegression\n",
        "from sklearn.svm import SVC\n",
        "from sklearn.ensemble import RandomForestClassifier\n",
        "from sklearn.metrics import accuracy_score, precision_score, recall_score, f1_score\n",
        "\n",
        "iris = load_iris()\n",
        "X = iris.data\n",
        "y = iris.target\n",
        "\n",
        "models = {\n",
        "    'Logistic Regression': LogisticRegression(),\n",
        "    'SVM': SVC(),\n",
        "    'Random Forest': RandomForestClassifier()\n",
        "}\n",
        "\n",
        "scoring = ['accuracy', 'precision_macro', 'recall_macro', 'f1_macro']\n",
        "\n",
        "results = {}\n",
        "for name, model in models.items():\n",
        "    cv_results = cross_validate(model, X, y, cv=5, scoring=scoring, return_train_score=True)\n",
        "    results[name] = cv_results\n",
        "\n",
        "for name, cv_results in results.items():\n",
        "    print(f\"Model: {name}\")\n",
        "    cv_results_df = pd.DataFrame(cv_results)\n",
        "    print(cv_results_df.mean())\n",
        "    print()\n"
      ],
      "metadata": {
        "colab": {
          "base_uri": "https://localhost:8080/"
        },
        "id": "YnhK6b9RQ_vM",
        "outputId": "d706a9a0-93c2-4928-bfcf-4915aa5a83bd"
      },
      "execution_count": null,
      "outputs": [
        {
          "output_type": "stream",
          "name": "stderr",
          "text": [
            "/usr/local/lib/python3.10/dist-packages/sklearn/linear_model/_logistic.py:458: ConvergenceWarning: lbfgs failed to converge (status=1):\n",
            "STOP: TOTAL NO. of ITERATIONS REACHED LIMIT.\n",
            "\n",
            "Increase the number of iterations (max_iter) or scale the data as shown in:\n",
            "    https://scikit-learn.org/stable/modules/preprocessing.html\n",
            "Please also refer to the documentation for alternative solver options:\n",
            "    https://scikit-learn.org/stable/modules/linear_model.html#logistic-regression\n",
            "  n_iter_i = _check_optimize_result(\n"
          ]
        },
        {
          "output_type": "stream",
          "name": "stdout",
          "text": [
            "Model: Logistic Regression\n",
            "fit_time                 0.016850\n",
            "score_time               0.004299\n",
            "test_accuracy            0.973333\n",
            "train_accuracy           0.975000\n",
            "test_precision_macro     0.976768\n",
            "train_precision_macro    0.975498\n",
            "test_recall_macro        0.973333\n",
            "train_recall_macro       0.975000\n",
            "test_f1_macro            0.973165\n",
            "train_f1_macro           0.974989\n",
            "dtype: float64\n",
            "\n",
            "Model: SVM\n",
            "fit_time                 0.001221\n",
            "score_time               0.003795\n",
            "test_accuracy            0.966667\n",
            "train_accuracy           0.973333\n",
            "test_precision_macro     0.968485\n",
            "train_precision_macro    0.974152\n",
            "test_recall_macro        0.966667\n",
            "train_recall_macro       0.973333\n",
            "test_f1_macro            0.966617\n",
            "train_f1_macro           0.973308\n",
            "dtype: float64\n",
            "\n",
            "Model: Random Forest\n",
            "fit_time                 0.140467\n",
            "score_time               0.009658\n",
            "test_accuracy            0.960000\n",
            "train_accuracy           1.000000\n",
            "test_precision_macro     0.963434\n",
            "train_precision_macro    1.000000\n",
            "test_recall_macro        0.960000\n",
            "train_recall_macro       1.000000\n",
            "test_f1_macro            0.959832\n",
            "train_f1_macro           1.000000\n",
            "dtype: float64\n",
            "\n"
          ]
        }
      ]
    },
    {
      "cell_type": "markdown",
      "source": [
        "Повторите анализ на другом датасете: встроенном наборе данных о диабете."
      ],
      "metadata": {
        "id": "hZyLZ12wQ_zQ"
      }
    },
    {
      "cell_type": "code",
      "source": [
        "import pandas as pd\n",
        "from sklearn.datasets import load_diabetes\n",
        "from sklearn.model_selection import cross_validate\n",
        "from sklearn.linear_model import LogisticRegression\n",
        "from sklearn.svm import SVC\n",
        "from sklearn.ensemble import RandomForestClassifier\n",
        "from sklearn.metrics import accuracy_score, precision_score, recall_score, f1_score\n",
        "\n",
        "diabetes = load_diabetes()\n",
        "X = diabetes.data\n",
        "y = diabetes.target\n",
        "\n",
        "models = {\n",
        "    'Logistic Regression': LogisticRegression(),\n",
        "    'SVM': SVC(),\n",
        "    'Random Forest': RandomForestClassifier()\n",
        "}\n",
        "\n",
        "scoring = ['accuracy', 'precision_macro', 'recall_macro', 'f1_macro']\n",
        "\n",
        "results = {}\n",
        "for name, model in models.items():\n",
        "    cv_results = cross_validate(model, X, y, cv=5, scoring=scoring, return_train_score=True)\n",
        "    results[name] = cv_results\n",
        "\n",
        "for name, cv_results in results.items():\n",
        "    print(f\"Model: {name}\")\n",
        "    cv_results_df = pd.DataFrame(cv_results)\n",
        "    print(cv_results_df.mean())\n",
        "    print()\n"
      ],
      "metadata": {
        "colab": {
          "base_uri": "https://localhost:8080/"
        },
        "id": "xEZ9cQEXQ_3o",
        "outputId": "f1de9e20-2f5d-4b6a-ace8-d14e7a4e9461"
      },
      "execution_count": null,
      "outputs": [
        {
          "output_type": "stream",
          "name": "stderr",
          "text": [
            "/usr/local/lib/python3.10/dist-packages/sklearn/model_selection/_split.py:700: UserWarning: The least populated class in y has only 1 members, which is less than n_splits=5.\n",
            "  warnings.warn(\n",
            "/usr/local/lib/python3.10/dist-packages/sklearn/metrics/_classification.py:1344: UndefinedMetricWarning: Precision is ill-defined and being set to 0.0 in labels with no predicted samples. Use `zero_division` parameter to control this behavior.\n",
            "  _warn_prf(average, modifier, msg_start, len(result))\n",
            "/usr/local/lib/python3.10/dist-packages/sklearn/metrics/_classification.py:1344: UndefinedMetricWarning: Precision is ill-defined and being set to 0.0 in labels with no predicted samples. Use `zero_division` parameter to control this behavior.\n",
            "  _warn_prf(average, modifier, msg_start, len(result))\n",
            "/usr/local/lib/python3.10/dist-packages/sklearn/metrics/_classification.py:1344: UndefinedMetricWarning: Precision is ill-defined and being set to 0.0 in labels with no predicted samples. Use `zero_division` parameter to control this behavior.\n",
            "  _warn_prf(average, modifier, msg_start, len(result))\n",
            "/usr/local/lib/python3.10/dist-packages/sklearn/metrics/_classification.py:1344: UndefinedMetricWarning: Precision is ill-defined and being set to 0.0 in labels with no predicted samples. Use `zero_division` parameter to control this behavior.\n",
            "  _warn_prf(average, modifier, msg_start, len(result))\n",
            "/usr/local/lib/python3.10/dist-packages/sklearn/metrics/_classification.py:1344: UndefinedMetricWarning: Precision is ill-defined and being set to 0.0 in labels with no predicted samples. Use `zero_division` parameter to control this behavior.\n",
            "  _warn_prf(average, modifier, msg_start, len(result))\n",
            "/usr/local/lib/python3.10/dist-packages/sklearn/metrics/_classification.py:1344: UndefinedMetricWarning: Precision is ill-defined and being set to 0.0 in labels with no predicted samples. Use `zero_division` parameter to control this behavior.\n",
            "  _warn_prf(average, modifier, msg_start, len(result))\n",
            "/usr/local/lib/python3.10/dist-packages/sklearn/metrics/_classification.py:1344: UndefinedMetricWarning: Precision is ill-defined and being set to 0.0 in labels with no predicted samples. Use `zero_division` parameter to control this behavior.\n",
            "  _warn_prf(average, modifier, msg_start, len(result))\n",
            "/usr/local/lib/python3.10/dist-packages/sklearn/metrics/_classification.py:1344: UndefinedMetricWarning: Precision is ill-defined and being set to 0.0 in labels with no predicted samples. Use `zero_division` parameter to control this behavior.\n",
            "  _warn_prf(average, modifier, msg_start, len(result))\n",
            "/usr/local/lib/python3.10/dist-packages/sklearn/metrics/_classification.py:1344: UndefinedMetricWarning: Precision is ill-defined and being set to 0.0 in labels with no predicted samples. Use `zero_division` parameter to control this behavior.\n",
            "  _warn_prf(average, modifier, msg_start, len(result))\n",
            "/usr/local/lib/python3.10/dist-packages/sklearn/metrics/_classification.py:1344: UndefinedMetricWarning: Precision is ill-defined and being set to 0.0 in labels with no predicted samples. Use `zero_division` parameter to control this behavior.\n",
            "  _warn_prf(average, modifier, msg_start, len(result))\n",
            "/usr/local/lib/python3.10/dist-packages/sklearn/model_selection/_split.py:700: UserWarning: The least populated class in y has only 1 members, which is less than n_splits=5.\n",
            "  warnings.warn(\n",
            "/usr/local/lib/python3.10/dist-packages/sklearn/metrics/_classification.py:1344: UndefinedMetricWarning: Precision is ill-defined and being set to 0.0 in labels with no predicted samples. Use `zero_division` parameter to control this behavior.\n",
            "  _warn_prf(average, modifier, msg_start, len(result))\n",
            "/usr/local/lib/python3.10/dist-packages/sklearn/metrics/_classification.py:1344: UndefinedMetricWarning: Recall is ill-defined and being set to 0.0 in labels with no true samples. Use `zero_division` parameter to control this behavior.\n",
            "  _warn_prf(average, modifier, msg_start, len(result))\n",
            "/usr/local/lib/python3.10/dist-packages/sklearn/metrics/_classification.py:1344: UndefinedMetricWarning: Precision is ill-defined and being set to 0.0 in labels with no predicted samples. Use `zero_division` parameter to control this behavior.\n",
            "  _warn_prf(average, modifier, msg_start, len(result))\n",
            "/usr/local/lib/python3.10/dist-packages/sklearn/metrics/_classification.py:1344: UndefinedMetricWarning: Precision is ill-defined and being set to 0.0 in labels with no predicted samples. Use `zero_division` parameter to control this behavior.\n",
            "  _warn_prf(average, modifier, msg_start, len(result))\n",
            "/usr/local/lib/python3.10/dist-packages/sklearn/metrics/_classification.py:1344: UndefinedMetricWarning: Recall is ill-defined and being set to 0.0 in labels with no true samples. Use `zero_division` parameter to control this behavior.\n",
            "  _warn_prf(average, modifier, msg_start, len(result))\n",
            "/usr/local/lib/python3.10/dist-packages/sklearn/metrics/_classification.py:1344: UndefinedMetricWarning: Precision is ill-defined and being set to 0.0 in labels with no predicted samples. Use `zero_division` parameter to control this behavior.\n",
            "  _warn_prf(average, modifier, msg_start, len(result))\n",
            "/usr/local/lib/python3.10/dist-packages/sklearn/metrics/_classification.py:1344: UndefinedMetricWarning: Precision is ill-defined and being set to 0.0 in labels with no predicted samples. Use `zero_division` parameter to control this behavior.\n",
            "  _warn_prf(average, modifier, msg_start, len(result))\n",
            "/usr/local/lib/python3.10/dist-packages/sklearn/metrics/_classification.py:1344: UndefinedMetricWarning: Recall is ill-defined and being set to 0.0 in labels with no true samples. Use `zero_division` parameter to control this behavior.\n",
            "  _warn_prf(average, modifier, msg_start, len(result))\n",
            "/usr/local/lib/python3.10/dist-packages/sklearn/metrics/_classification.py:1344: UndefinedMetricWarning: Precision is ill-defined and being set to 0.0 in labels with no predicted samples. Use `zero_division` parameter to control this behavior.\n",
            "  _warn_prf(average, modifier, msg_start, len(result))\n",
            "/usr/local/lib/python3.10/dist-packages/sklearn/metrics/_classification.py:1344: UndefinedMetricWarning: Precision is ill-defined and being set to 0.0 in labels with no predicted samples. Use `zero_division` parameter to control this behavior.\n",
            "  _warn_prf(average, modifier, msg_start, len(result))\n",
            "/usr/local/lib/python3.10/dist-packages/sklearn/metrics/_classification.py:1344: UndefinedMetricWarning: Recall is ill-defined and being set to 0.0 in labels with no true samples. Use `zero_division` parameter to control this behavior.\n",
            "  _warn_prf(average, modifier, msg_start, len(result))\n",
            "/usr/local/lib/python3.10/dist-packages/sklearn/metrics/_classification.py:1344: UndefinedMetricWarning: Precision is ill-defined and being set to 0.0 in labels with no predicted samples. Use `zero_division` parameter to control this behavior.\n",
            "  _warn_prf(average, modifier, msg_start, len(result))\n",
            "/usr/local/lib/python3.10/dist-packages/sklearn/metrics/_classification.py:1344: UndefinedMetricWarning: Precision is ill-defined and being set to 0.0 in labels with no predicted samples. Use `zero_division` parameter to control this behavior.\n",
            "  _warn_prf(average, modifier, msg_start, len(result))\n",
            "/usr/local/lib/python3.10/dist-packages/sklearn/metrics/_classification.py:1344: UndefinedMetricWarning: Recall is ill-defined and being set to 0.0 in labels with no true samples. Use `zero_division` parameter to control this behavior.\n",
            "  _warn_prf(average, modifier, msg_start, len(result))\n",
            "/usr/local/lib/python3.10/dist-packages/sklearn/metrics/_classification.py:1344: UndefinedMetricWarning: Precision is ill-defined and being set to 0.0 in labels with no predicted samples. Use `zero_division` parameter to control this behavior.\n",
            "  _warn_prf(average, modifier, msg_start, len(result))\n",
            "/usr/local/lib/python3.10/dist-packages/sklearn/model_selection/_split.py:700: UserWarning: The least populated class in y has only 1 members, which is less than n_splits=5.\n",
            "  warnings.warn(\n",
            "/usr/local/lib/python3.10/dist-packages/sklearn/metrics/_classification.py:1344: UndefinedMetricWarning: Precision is ill-defined and being set to 0.0 in labels with no predicted samples. Use `zero_division` parameter to control this behavior.\n",
            "  _warn_prf(average, modifier, msg_start, len(result))\n",
            "/usr/local/lib/python3.10/dist-packages/sklearn/metrics/_classification.py:1344: UndefinedMetricWarning: Recall is ill-defined and being set to 0.0 in labels with no true samples. Use `zero_division` parameter to control this behavior.\n",
            "  _warn_prf(average, modifier, msg_start, len(result))\n",
            "/usr/local/lib/python3.10/dist-packages/sklearn/metrics/_classification.py:1344: UndefinedMetricWarning: Precision is ill-defined and being set to 0.0 in labels with no predicted samples. Use `zero_division` parameter to control this behavior.\n",
            "  _warn_prf(average, modifier, msg_start, len(result))\n",
            "/usr/local/lib/python3.10/dist-packages/sklearn/metrics/_classification.py:1344: UndefinedMetricWarning: Recall is ill-defined and being set to 0.0 in labels with no true samples. Use `zero_division` parameter to control this behavior.\n",
            "  _warn_prf(average, modifier, msg_start, len(result))\n",
            "/usr/local/lib/python3.10/dist-packages/sklearn/metrics/_classification.py:1344: UndefinedMetricWarning: Precision is ill-defined and being set to 0.0 in labels with no predicted samples. Use `zero_division` parameter to control this behavior.\n",
            "  _warn_prf(average, modifier, msg_start, len(result))\n",
            "/usr/local/lib/python3.10/dist-packages/sklearn/metrics/_classification.py:1344: UndefinedMetricWarning: Recall is ill-defined and being set to 0.0 in labels with no true samples. Use `zero_division` parameter to control this behavior.\n",
            "  _warn_prf(average, modifier, msg_start, len(result))\n",
            "/usr/local/lib/python3.10/dist-packages/sklearn/metrics/_classification.py:1344: UndefinedMetricWarning: Precision is ill-defined and being set to 0.0 in labels with no predicted samples. Use `zero_division` parameter to control this behavior.\n",
            "  _warn_prf(average, modifier, msg_start, len(result))\n",
            "/usr/local/lib/python3.10/dist-packages/sklearn/metrics/_classification.py:1344: UndefinedMetricWarning: Recall is ill-defined and being set to 0.0 in labels with no true samples. Use `zero_division` parameter to control this behavior.\n",
            "  _warn_prf(average, modifier, msg_start, len(result))\n"
          ]
        },
        {
          "output_type": "stream",
          "name": "stdout",
          "text": [
            "Model: Logistic Regression\n",
            "fit_time                 0.039859\n",
            "score_time               0.012024\n",
            "test_accuracy            0.011313\n",
            "train_accuracy           0.018103\n",
            "test_precision_macro     0.000209\n",
            "train_precision_macro    0.000155\n",
            "test_recall_macro        0.011365\n",
            "train_recall_macro       0.006476\n",
            "test_f1_macro            0.000410\n",
            "train_f1_macro           0.000303\n",
            "dtype: float64\n",
            "\n",
            "Model: SVM\n",
            "fit_time                 0.095213\n",
            "score_time               0.030354\n",
            "test_accuracy            0.018131\n",
            "train_accuracy           0.179859\n",
            "test_precision_macro     0.001199\n",
            "train_precision_macro    0.118066\n",
            "test_recall_macro        0.015892\n",
            "train_recall_macro       0.104238\n",
            "test_f1_macro            0.002188\n",
            "train_f1_macro           0.088923\n",
            "dtype: float64\n",
            "\n",
            "Model: Random Forest\n",
            "fit_time                 0.545868\n",
            "score_time               0.024310\n",
            "test_accuracy            0.009091\n",
            "train_accuracy           1.000000\n",
            "test_precision_macro     0.003428\n",
            "train_precision_macro    1.000000\n",
            "test_recall_macro        0.006192\n",
            "train_recall_macro       1.000000\n",
            "test_f1_macro            0.004181\n",
            "train_f1_macro           1.000000\n",
            "dtype: float64\n",
            "\n"
          ]
        },
        {
          "output_type": "stream",
          "name": "stderr",
          "text": [
            "/usr/local/lib/python3.10/dist-packages/sklearn/metrics/_classification.py:1344: UndefinedMetricWarning: Precision is ill-defined and being set to 0.0 in labels with no predicted samples. Use `zero_division` parameter to control this behavior.\n",
            "  _warn_prf(average, modifier, msg_start, len(result))\n",
            "/usr/local/lib/python3.10/dist-packages/sklearn/metrics/_classification.py:1344: UndefinedMetricWarning: Recall is ill-defined and being set to 0.0 in labels with no true samples. Use `zero_division` parameter to control this behavior.\n",
            "  _warn_prf(average, modifier, msg_start, len(result))\n"
          ]
        }
      ]
    },
    {
      "cell_type": "markdown",
      "source": [
        "Сделайте k-блочную перекрёстную проверку (KFold) модели логистической регрессии, предварительно стандартизировав данные. Для этого создайте конвейер с помощью make_pipeline из библиотеки sklearn.pipeline, который будет стандартизировать, а затем выполнять логистическую регрессию."
      ],
      "metadata": {
        "id": "68jtnfyqQ_7j"
      }
    },
    {
      "cell_type": "code",
      "source": [
        "import pandas as pd\n",
        "from sklearn.datasets import load_diabetes\n",
        "from sklearn.model_selection import cross_val_score, KFold\n",
        "from sklearn.pipeline import make_pipeline\n",
        "from sklearn.preprocessing import StandardScaler\n",
        "from sklearn.linear_model import LogisticRegression\n",
        "\n",
        "diabetes = load_diabetes()\n",
        "X = diabetes.data\n",
        "y = diabetes.target\n",
        "\n",
        "# Создание конвейера с стандартизацией и моделью логистической регрессии\n",
        "pipeline = make_pipeline(StandardScaler(), LogisticRegression())\n",
        "\n",
        "# Создание объекта KFold\n",
        "kf = KFold(n_splits=5, shuffle=True, random_state=42)\n",
        "\n",
        "cv_scores = cross_val_score(pipeline, X, y, cv=kf)\n",
        "\n",
        "print(\"Cross-validated scores:\", cv_scores)\n",
        "print(\"Mean accuracy:\", cv_scores.mean())\n"
      ],
      "metadata": {
        "colab": {
          "base_uri": "https://localhost:8080/"
        },
        "id": "OXiczN8KRBo0",
        "outputId": "b4b6cdfc-2bf7-43be-f32c-52c7f3382204"
      },
      "execution_count": null,
      "outputs": [
        {
          "output_type": "stream",
          "name": "stdout",
          "text": [
            "Cross-validated scores: [0.         0.01123596 0.         0.         0.        ]\n",
            "Mean accuracy: 0.002247191011235955\n"
          ]
        }
      ]
    },
    {
      "cell_type": "markdown",
      "source": [],
      "metadata": {
        "id": "NGs3TlH3RBwY"
      }
    },
    {
      "cell_type": "code",
      "source": [],
      "metadata": {
        "id": "iKL4si6KRB3r"
      },
      "execution_count": null,
      "outputs": []
    },
    {
      "cell_type": "markdown",
      "source": [],
      "metadata": {
        "id": "iSHijpcNRB96"
      }
    },
    {
      "cell_type": "code",
      "source": [],
      "metadata": {
        "id": "WsErLPylRCEH"
      },
      "execution_count": null,
      "outputs": []
    },
    {
      "cell_type": "markdown",
      "source": [],
      "metadata": {
        "id": "U9k_TNssRCKF"
      }
    },
    {
      "cell_type": "code",
      "source": [],
      "metadata": {
        "id": "U06tvqc0RCP5"
      },
      "execution_count": null,
      "outputs": []
    },
    {
      "cell_type": "markdown",
      "source": [],
      "metadata": {
        "id": "60OBhxDPRCVV"
      }
    },
    {
      "cell_type": "code",
      "source": [],
      "metadata": {
        "id": "vgxC9RSGRCa1"
      },
      "execution_count": null,
      "outputs": []
    },
    {
      "cell_type": "markdown",
      "source": [],
      "metadata": {
        "id": "r3IJDHYIRCgt"
      }
    },
    {
      "cell_type": "code",
      "source": [],
      "metadata": {
        "id": "4IpMfxAjRCmo"
      },
      "execution_count": null,
      "outputs": []
    },
    {
      "cell_type": "markdown",
      "source": [],
      "metadata": {
        "id": "q-ekemCpRCsS"
      }
    },
    {
      "cell_type": "code",
      "source": [],
      "metadata": {
        "id": "H6OXdLvTRCyA"
      },
      "execution_count": null,
      "outputs": []
    },
    {
      "cell_type": "markdown",
      "source": [],
      "metadata": {
        "id": "pswhrwaERC4N"
      }
    },
    {
      "cell_type": "code",
      "source": [],
      "metadata": {
        "id": "rmnU4k_WRC9q"
      },
      "execution_count": null,
      "outputs": []
    },
    {
      "cell_type": "markdown",
      "source": [],
      "metadata": {
        "id": "Y8SRj5anRDDp"
      }
    },
    {
      "cell_type": "code",
      "source": [],
      "metadata": {
        "id": "uj-2-KrMRDJj"
      },
      "execution_count": null,
      "outputs": []
    },
    {
      "cell_type": "markdown",
      "source": [],
      "metadata": {
        "id": "Rm4fWEehRDPt"
      }
    },
    {
      "cell_type": "code",
      "source": [],
      "metadata": {
        "id": "5U9ntqh2RDVS"
      },
      "execution_count": null,
      "outputs": []
    },
    {
      "cell_type": "markdown",
      "source": [],
      "metadata": {
        "id": "JoP3l3dsRDbe"
      }
    },
    {
      "cell_type": "code",
      "source": [],
      "metadata": {
        "id": "6S_x9SleRDhU"
      },
      "execution_count": null,
      "outputs": []
    },
    {
      "cell_type": "markdown",
      "source": [],
      "metadata": {
        "id": "jDcUOY6lRDnA"
      }
    },
    {
      "cell_type": "code",
      "source": [],
      "metadata": {
        "id": "k9T47EEcRDsz"
      },
      "execution_count": null,
      "outputs": []
    },
    {
      "cell_type": "markdown",
      "source": [],
      "metadata": {
        "id": "I-Eo3zDoRDyr"
      }
    },
    {
      "cell_type": "code",
      "source": [],
      "metadata": {
        "id": "i-rMQTZjRD4p"
      },
      "execution_count": null,
      "outputs": []
    },
    {
      "cell_type": "markdown",
      "source": [],
      "metadata": {
        "id": "uoY9pVfnRD-e"
      }
    },
    {
      "cell_type": "code",
      "source": [],
      "metadata": {
        "id": "eetXiip7RED8"
      },
      "execution_count": null,
      "outputs": []
    },
    {
      "cell_type": "markdown",
      "source": [],
      "metadata": {
        "id": "NtpO9jjHREKA"
      }
    },
    {
      "cell_type": "code",
      "source": [],
      "metadata": {
        "id": "AaJ6FaVQREPw"
      },
      "execution_count": null,
      "outputs": []
    },
    {
      "cell_type": "markdown",
      "source": [],
      "metadata": {
        "id": "aaLodLLjREVu"
      }
    },
    {
      "cell_type": "code",
      "source": [],
      "metadata": {
        "id": "-Q0fQQoFREbo"
      },
      "execution_count": null,
      "outputs": []
    },
    {
      "cell_type": "markdown",
      "source": [],
      "metadata": {
        "id": "6kR57dxbREhu"
      }
    },
    {
      "cell_type": "code",
      "source": [],
      "metadata": {
        "id": "AkhN4_2PREnN"
      },
      "execution_count": null,
      "outputs": []
    },
    {
      "cell_type": "markdown",
      "source": [],
      "metadata": {
        "id": "7k4Zx_jyREs1"
      }
    },
    {
      "cell_type": "code",
      "source": [],
      "metadata": {
        "id": "Ws578CT9REyM"
      },
      "execution_count": null,
      "outputs": []
    },
    {
      "cell_type": "markdown",
      "source": [],
      "metadata": {
        "id": "4QkHSSVwRE4C"
      }
    }
  ]
}