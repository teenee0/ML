{
  "nbformat": 4,
  "nbformat_minor": 0,
  "metadata": {
    "colab": {
      "provenance": []
    },
    "kernelspec": {
      "name": "python3",
      "display_name": "Python 3"
    },
    "language_info": {
      "name": "python"
    }
  },
  "cells": [
    {
      "cell_type": "code",
      "execution_count": 1,
      "metadata": {
        "id": "BSQLtXI2U4kG"
      },
      "outputs": [],
      "source": [
        "import numpy as np\n",
        "import pandas as pd\n",
        "import matplotlib.pyplot as plt"
      ]
    },
    {
      "cell_type": "code",
      "source": [
        "x = pd.read_csv('https://raw.githubusercontent.com/koroteevmv/ML_course/2023/ML1.1%20linear%20regression/data/x.csv', index_col=0)['0']\n",
        "y = pd.read_csv('https://raw.githubusercontent.com/koroteevmv/ML_course/2023/ML1.1%20linear%20regression/data/y.csv', index_col=0)['0']"
      ],
      "metadata": {
        "id": "Ge8dBLfSVANo"
      },
      "execution_count": 9,
      "outputs": []
    },
    {
      "cell_type": "code",
      "source": [
        "class Model(object):\n",
        "    \"\"\"Модель парной линейной регрессии\"\"\"\n",
        "    def __init__(self, b0 = 0, b1 = 0):\n",
        "        self.b0 = b0\n",
        "        self.b1 = b1\n",
        "    def predict(self, X):\n",
        "        return self.b0 + self.b1 * X\n",
        "    def error(self, X, Y):\n",
        "        return sum(((self.predict(X) - Y)**2) / (2 * len(X)))\n",
        "    def fit(self, X, Y, alpha=0.001, accuracy=0.01, max_steps=5000):\n",
        "        steps, errors = [], []\n",
        "        step = 0\n",
        "        for _ in range(10000):\n",
        "            dJ0 = sum(self.predict(X) - Y) /len(X)\n",
        "            dJ1 = sum((self.predict(X) - Y) * X) /len(X)\n",
        "            self.b0 -= alpha * dJ0\n",
        "            self.b1 -= alpha * dJ1\n",
        "            new_err = hyp.error(X, Y)\n",
        "            step += 1\n",
        "            steps.append(step)\n",
        "            errors.append(new_err)\n",
        "        return steps, errors"
      ],
      "metadata": {
        "id": "GpwPgg30umjx"
      },
      "execution_count": 16,
      "outputs": []
    },
    {
      "cell_type": "markdown",
      "source": [
        "Проверьте работу модели с разными начальными значениями параметров. Убедитесь, что модель всегда сходится к оптимуму."
      ],
      "metadata": {
        "id": "ZF0AEBnO3p27"
      }
    },
    {
      "cell_type": "code",
      "source": [
        "e= []\n",
        "for i in range(10):\n",
        "  b0 = np.random.normal(0,50)\n",
        "  b1 = np.random.normal(0,50)\n",
        "  hyp = Model(b0 = b0, b1 = b1)\n",
        "  steps,erors = hyp.fit(x,y)\n",
        "  j = hyp.error(x,y)\n",
        "  print(f'Model {i}, error = {j}, b0 = {hyp.b0}, b1 = {hyp.b1}')\n"
      ],
      "metadata": {
        "colab": {
          "base_uri": "https://localhost:8080/"
        },
        "id": "Gbf4EQqtVBru",
        "outputId": "ed2dc524-0226-48c2-d09c-08e5421a5794"
      },
      "execution_count": 14,
      "outputs": [
        {
          "output_type": "stream",
          "name": "stdout",
          "text": [
            "Model 0, error = 3.758941765244276e-09, b0 = -8.102869789374934e-05, b1 = 69.1876733781403\n",
            "Model 1, error = 2.0616912555502077e-10, b0 = 1.9268051822322688e-05, b1 = 69.18771964127636\n",
            "Model 2, error = 2.9517967987245643e-10, b0 = 2.2967154214430748e-05, b1 = 69.18772147031622\n",
            "Model 3, error = 1.7721130499004074e-09, b0 = -5.583034604329229e-05, b1 = 69.1876857105207\n",
            "Model 4, error = 2.3728641000679536e-12, b0 = -1.9389433855635902e-06, b1 = 69.1877102635337\n",
            "Model 5, error = 3.4106901340822083e-10, b0 = -2.4265358800839136e-05, b1 = 69.18769964828614\n",
            "Model 6, error = 2.18021080086428e-10, b0 = 1.952277007925848e-05, b1 = 69.18772053303107\n",
            "Model 7, error = 6.656851752611048e-11, b0 = -1.0687946164998902e-05, b1 = 69.18770614082295\n",
            "Model 8, error = 8.859968895430768e-10, b0 = 3.9462988585728574e-05, b1 = 69.18772958591377\n",
            "Model 9, error = 1.4488501693720929e-12, b0 = 1.6739198109020321e-06, b1 = 69.18771191017656\n"
          ]
        }
      ]
    },
    {
      "cell_type": "markdown",
      "source": [
        "Проверьте работу модели с другими значениями скорости обучения. Найдите значение, при котором градиентный спуск расходится."
      ],
      "metadata": {
        "id": "hVoNVHe53tWm"
      }
    },
    {
      "cell_type": "code",
      "source": [
        "alpha = [0.000000001, 0.000001, 0.001, 0.01, 0.1, 0.25, 0.5, 1, 1.25, 1.5, 1.52]\n",
        "er = []\n",
        "for lr in alpha:\n",
        "  hyp = Model()\n",
        "  steps, errors = hyp.fit(x, y, alpha = lr)\n",
        "  J = hyp.error(x, y)\n",
        "  er.append(J)\n",
        "  print('*'*30)\n",
        "  print(f\"Learning rate {lr}\")\n",
        "  print(f\"First 5 error after gradient descent: {errors[:5]}\")\n",
        "  print(f\"Last 5 error after gradient descent: {errors[-5:]}\")\n",
        "  print('*'*30)"
      ],
      "metadata": {
        "colab": {
          "base_uri": "https://localhost:8080/"
        },
        "id": "EmnHTu7_4qSr",
        "outputId": "738b8cbb-71a6-4486-ef12-9fc3696b91f4"
      },
      "execution_count": 17,
      "outputs": [
        {
          "output_type": "stream",
          "name": "stdout",
          "text": [
            "******************************\n",
            "Learning rate 1e-09\n",
            "First 5 error after gradient descent: [2937.644602219114, 2937.644594922889, 2937.644587626663, 2937.6445803304387, 2937.644573034213]\n",
            "Last 5 error after gradient descent: [2937.571677360266, 2937.5716700642242, 2937.5716627681813, 2937.571655472139, 2937.571648176097]\n",
            "******************************\n",
            "******************************\n",
            "Learning rate 1e-06\n",
            "First 5 error after gradient descent: [2937.637313294546, 2937.6300170920404, 2937.622720907826, 2937.6154247419013, 2937.6081285942646]\n",
            "Last 5 error after gradient descent: [2865.617599148106, 2865.610483461165, 2865.603367792058, 2865.596252140784, 2865.5891365073458]\n",
            "******************************\n",
            "******************************\n",
            "Learning rate 0.001\n",
            "First 5 error after gradient descent: [2930.352956509933, 2923.079569868531, 2915.8244035059333, 2908.5874114538433, 2901.368547860564]\n",
            "Last 5 error after gradient descent: [2.7979569701484846e-06, 2.792696726852265e-06, 2.7874463808371797e-06, 2.7822059134388084e-06, 2.776975306057215e-06]\n",
            "******************************\n",
            "******************************\n",
            "Learning rate 0.01\n",
            "First 5 error after gradient descent: [2865.1395919332504, 2794.4405053996225, 2725.5020502719335, 2658.280069306155, 2592.7315187303752]\n",
            "Last 5 error after gradient descent: [2.006036254818294e-25, 2.0059226588479422e-25, 2.0059226588479422e-25, 2.0059226588479422e-25, 2.006036254818294e-25]\n",
            "******************************\n",
            "******************************\n",
            "Learning rate 0.1\n",
            "First 5 error after gradient descent: [2253.745680891855, 1730.3871527188223, 1329.6377428391181, 1022.5734182018915, 787.1302725738453]\n",
            "Last 5 error after gradient descent: [1.840377979216017e-27, 1.6583631164782415e-27, 1.6583631164782415e-27, 1.6583631164782415e-27, 1.6583631164782415e-27]\n",
            "******************************\n",
            "******************************\n",
            "Learning rate 0.25\n",
            "First 5 error after gradient descent: [1399.360817945841, 672.0531888605084, 325.84359312197336, 159.7133554647854, 79.24358573076918]\n",
            "Last 5 error after gradient descent: [7.948266658167459e-29, 7.885157785749778e-29, 7.948266658167459e-29, 7.948266658167459e-29, 7.885157785749778e-29]\n",
            "******************************\n",
            "******************************\n",
            "Learning rate 0.5\n",
            "First 5 error after gradient descent: [432.6221263403896, 71.95088116613607, 13.95886220916164, 3.134744097689322, 0.7822885742278051]\n",
            "Last 5 error after gradient descent: [7.948266658167459e-29, 7.948266658167459e-29, 7.885157785749778e-29, 7.948266658167459e-29, 7.948266658167459e-29]\n",
            "******************************\n",
            "******************************\n",
            "Learning rate 1\n",
            "First 5 error after gradient descent: [213.7800430216267, 17.72598711993926, 1.479211885397035, 0.12347438476057289, 0.010306924606085436]\n",
            "Last 5 error after gradient descent: [2.5879568071906823e-29, 3.0967720910582346e-29, 2.532243505759448e-29, 2.5879568071906823e-29, 3.0967720910582346e-29]\n",
            "******************************\n",
            "******************************\n",
            "Learning rate 1.25\n",
            "First 5 error after gradient descent: [961.6766513083159, 355.13012579680174, 132.52059929925886, 49.49319421152775, 18.485744788290976]\n",
            "Last 5 error after gradient descent: [2.5894359213879715e-29, 3.0967720910582346e-29, 2.532736543825211e-29, 2.5894359213879715e-29, 3.0967720910582346e-29]\n",
            "******************************\n",
            "******************************\n",
            "Learning rate 1.5\n",
            "First 5 error after gradient descent: [2281.118359559052, 1941.0768274914985, 1683.3760774890345, 1465.2734107558915, 1276.3277435476725]\n",
            "Last 5 error after gradient descent: [2.1275233487164656e-27, 1.8155830948887893e-27, 2.1309499632735193e-27, 1.798173920786693e-27, 2.1275233487164656e-27]\n",
            "******************************\n",
            "******************************\n",
            "Learning rate 1.52\n",
            "First 5 error after gradient descent: [2411.3644445375585, 2165.45751219719, 1982.5530504206881, 1822.16253038082, 1676.0387039151844]\n",
            "Last 5 error after gradient descent: [2.2089091422319857e-27, 1.8828975820074295e-27, 2.20842103454688e-27, 1.9055132380839843e-27, 2.2094071106784064e-27]\n",
            "******************************\n"
          ]
        }
      ]
    },
    {
      "cell_type": "markdown",
      "source": [
        "Модифицируйте код модели таким образом, чтобы он корректно работал как с Series, так и с DataFrame. При этом, конечно, датафрейм не должен содержать \"лишних\" столбцов."
      ],
      "metadata": {
        "id": "3O_XU6zo5f8K"
      }
    },
    {
      "cell_type": "code",
      "source": [
        "class Model(object):\n",
        "    \"\"\"Модель парной линейной регрессии\"\"\"\n",
        "    def __init__(self, b0=0, b1=0):\n",
        "        self.b0 = b0\n",
        "        self.b1 = b1\n",
        "    def predict(self, X = np.zeros(10), df = pd.DataFrame()):\n",
        "        X = X\n",
        "        if len(df.columns) == 2:\n",
        "          X = df.iloc[:,0]\n",
        "        return self.b0 + self.b1 * X\n",
        "    def error(self, X = np.zeros(10), Y = np.zeros(10), df = pd.DataFrame()):\n",
        "        X = X\n",
        "        Y = Y\n",
        "        if len(df.columns) == 2:\n",
        "          X = df.iloc[:,0]\n",
        "          Y = df.iloc[:,1]\n",
        "        return sum(((self.predict(X) - Y)**2) / (2 * len(X)))\n",
        "    def fit(self, X = np.zeros(10), Y = np.zeros(10), df = pd.DataFrame(), alpha=0.001, accuracy=0.01, max_steps=5000):\n",
        "        X = X\n",
        "        Y = Y\n",
        "        if len(df.columns) == 2:\n",
        "          X = df.iloc[:,0]\n",
        "          Y = df.iloc[:,1]\n",
        "        steps, errors = [], []\n",
        "        step = 0\n",
        "        for _ in range(10000):\n",
        "            dJ0 = sum(self.predict(X) - Y) /len(X)\n",
        "            dJ1 = sum((self.predict(X) - Y) * X) /len(X)\n",
        "            self.b0 -= alpha * dJ0\n",
        "            self.b1 -= alpha * dJ1\n",
        "            new_err = self.error(X, Y)\n",
        "            step += 1\n",
        "            steps.append(step)\n",
        "            errors.append(new_err)\n",
        "        return steps, errors"
      ],
      "metadata": {
        "id": "0jgahdWE5gED"
      },
      "execution_count": 19,
      "outputs": []
    },
    {
      "cell_type": "code",
      "source": [
        "b = 0.1\n",
        "df = pd.DataFrame({'x': np.linspace(-2,4,20), 'y': np.linspace(-2,4,20) + b + np.random.normal(0,0.1,20)})\n",
        "hyp = Model()\n",
        "steps1, errors1 = hyp.fit(df=df)\n",
        "J1 = hyp.error(df = df)\n",
        "print(\"error after gradient descent:\", J1)\n",
        "print(\"*\"*100)\n",
        "hyp2 = Model()\n",
        "steps2, errors2 = hyp2.fit(df.iloc[:,0], df.iloc[:,1])\n",
        "J2 = hyp.error(df.iloc[:,0], df.iloc[:,1])\n",
        "print(\"error after gradient descent:\", J2)"
      ],
      "metadata": {
        "colab": {
          "base_uri": "https://localhost:8080/"
        },
        "id": "ebwoGFUk5j0p",
        "outputId": "bba56b3d-cf43-41be-cb52-1e645248dfe3"
      },
      "execution_count": 20,
      "outputs": [
        {
          "output_type": "stream",
          "name": "stdout",
          "text": [
            "error after gradient descent: 0.005616882627183773\n",
            "****************************************************************************************************\n",
            "error after gradient descent: 0.005616882627183773\n"
          ]
        }
      ]
    },
    {
      "cell_type": "markdown",
      "source": [
        "Модифицируйте алгоритм градиентного спука таким образом, чтобы он останавливаля, если ошибка перестает снижаться. Для этого сравнивайте, на сколько понизилась ошибка на каждом шаге и если это снижение меньше некоторой заранее заданной очень маленькой величины - выходите из цикла. Эту величину можно взять одну миллионную, например."
      ],
      "metadata": {
        "id": "JvA36kjf9ZmS"
      }
    },
    {
      "cell_type": "code",
      "source": [
        "class Model(object):\n",
        "    \"\"\"Модель парной линейной регрессии\"\"\"\n",
        "    def __init__(self, b0=0, b1=0):\n",
        "        self.b0 = b0\n",
        "        self.b1 = b1\n",
        "    def predict(self, X = np.zeros(10), df = pd.DataFrame()):\n",
        "        X = X\n",
        "        if len(df.columns) == 2:\n",
        "          X = df.iloc[:,0]\n",
        "        return self.b0 + self.b1 * X\n",
        "    def error(self, X = np.zeros(10), Y = np.zeros(10), df = pd.DataFrame()):\n",
        "        X = X\n",
        "        Y = Y\n",
        "        if len(df.columns) == 2:\n",
        "          X = df.iloc[:,0]\n",
        "          Y = df.iloc[:,1]\n",
        "        return sum(((self.predict(X) - Y)**2) / (2 * len(X)))\n",
        "    def fit(self, X = np.zeros(10), Y = np.zeros(10), df = pd.DataFrame(), alpha=0.001, accuracy=0.000001, max_steps=5000):\n",
        "        X = X\n",
        "        Y = Y\n",
        "        if len(df.columns) == 2:\n",
        "          X = df.iloc[:,0]\n",
        "          Y = df.iloc[:,1]\n",
        "        steps, errors = [], []\n",
        "        step = 0\n",
        "        for _ in range(10000):\n",
        "            dJ0 = sum(self.predict(X) - Y) /len(X)\n",
        "            dJ1 = sum((self.predict(X) - Y) * X) /len(X)\n",
        "            self.b0 -= alpha * dJ0\n",
        "            self.b1 -= alpha * dJ1\n",
        "            new_err = self.error(X, Y)\n",
        "            step += 1\n",
        "\n",
        "\n",
        "\n",
        "            if _ > 1:\n",
        "              delta = errors[-1] - new_err\n",
        "\n",
        "              if delta < accuracy:\n",
        "                break\n",
        "\n",
        "            if _ % 1000 == 0:\n",
        "              print(f'error: {new_err},')\n",
        "              if _ > 0:\n",
        "                print(f'delta: {delta}\\n')\n",
        "\n",
        "            steps.append(step)\n",
        "            errors.append(new_err)\n",
        "\n",
        "        return steps, errors"
      ],
      "metadata": {
        "id": "YPYxxS-39aKj"
      },
      "execution_count": 35,
      "outputs": []
    },
    {
      "cell_type": "code",
      "source": [
        "b = 0.1\n",
        "df = pd.DataFrame({'x': np.linspace(-2,4,20), 'y': np.linspace(-2,4,20) + b + np.random.normal(0,0.1,20)})\n",
        "hyp = Model()\n",
        "steps1, errors1 = hyp.fit(df=df, accuracy = 0.000000001)\n",
        "J1 = hyp.error(df = df)\n",
        "print(\"error after gradient descent:\", J1)\n",
        "print(\"Обучение остановлено на итерации: \", len(steps1))\n",
        "print(\"*\"*100)\n",
        "hyp2 = Model()\n",
        "steps2, errors2 = hyp2.fit(df.iloc[:,0], df.iloc[:,1], accuracy = 0.000001)\n",
        "J2 = hyp2.error(df.iloc[:,0], df.iloc[:,1])\n",
        "print(\"error after gradient descent:\", J2)\n",
        "print(\"Обучение остановлено на итерации: \", len(steps2))"
      ],
      "metadata": {
        "colab": {
          "base_uri": "https://localhost:8080/"
        },
        "id": "TyybYbbd-LSq",
        "outputId": "c31def7d-9dc8-4926-ea5d-11d40a7b22f2"
      },
      "execution_count": 36,
      "outputs": [
        {
          "output_type": "stream",
          "name": "stdout",
          "text": [
            "error: 2.289718739070568,\n",
            "error: 0.005614353609565727,\n",
            "delta: 5.376667467941673e-06\n",
            "\n",
            "error: 0.0036587711151110113,\n",
            "delta: 7.712929679598926e-07\n",
            "\n",
            "error: 0.003251071310848396,\n",
            "delta: 1.8195365469441532e-07\n",
            "\n",
            "error: 0.0031548710020491578,\n",
            "delta: 4.293594177071092e-08\n",
            "\n",
            "error: 0.003132170434447232,\n",
            "delta: 1.0131675083971392e-08\n",
            "\n",
            "error: 0.003126813738734844,\n",
            "delta: 2.3907904566668192e-09\n",
            "\n",
            "error after gradient descent: 0.003125850911450062\n",
            "Обучение остановлено на итерации:  6604\n",
            "****************************************************************************************************\n",
            "error: 2.289718739070568,\n",
            "error: 0.005614353609565727,\n",
            "delta: 5.376667467941673e-06\n",
            "\n",
            "error after gradient descent: 0.0038162569852871905\n",
            "Обучение остановлено на итерации:  1821\n"
          ]
        }
      ]
    },
    {
      "cell_type": "markdown",
      "source": [
        "Реализуйте механизм адаптивной скорости обучения. Чтобы не задавать вручную параметр alpha можно отслеживать, увеличивается ли ошибка после первого шага градиентного спуска. В начале задаем скорость обучения близкой к 1. Если ошибка после одного шага увеличивается - скорость обучения надо уменьшить (например, в 2 раза). Если не увеличивается - скорость обучения можно не трогать. Еще подумайте, как после уменьшения скорости перезапускать градиентный спуск заново."
      ],
      "metadata": {
        "id": "Q1UZGBaDCI7E"
      }
    },
    {
      "cell_type": "code",
      "source": [
        "class Model(object):\n",
        "    \"\"\"Модель парной линейной регрессии\"\"\"\n",
        "    def __init__(self, b0=0, b1=0):\n",
        "        self.b0 = b0\n",
        "        self.b1 = b1\n",
        "    def predict(self, X = np.zeros(10), df = pd.DataFrame()):\n",
        "        X = X\n",
        "        if len(df.columns) == 2:\n",
        "          X = df.iloc[:,0]\n",
        "        return self.b0 + self.b1 * X\n",
        "    def error(self, X = np.zeros(10), Y = np.zeros(10), df = pd.DataFrame()):\n",
        "        X = X\n",
        "        Y = Y\n",
        "        if len(df.columns) == 2:\n",
        "          X = df.iloc[:,0]\n",
        "          Y = df.iloc[:,1]\n",
        "        return sum(((self.predict(X) - Y)**2) / (2 * len(X)))\n",
        "    def fit(self, X = np.zeros(10), Y = np.zeros(10), df = pd.DataFrame(), alpha=0.001, accuracy=0.000001, max_steps=5000):\n",
        "        X = X\n",
        "        Y = Y\n",
        "        if len(df.columns) == 2:\n",
        "          X = df.iloc[:,0]\n",
        "          Y = df.iloc[:,1]\n",
        "        steps, errors = [], []\n",
        "        step = 0\n",
        "        for _ in range(10000):\n",
        "            dJ0 = sum(self.predict(X) - Y) /len(X)\n",
        "            dJ1 = sum((self.predict(X) - Y) * X) /len(X)\n",
        "            self.b0 -= alpha * dJ0\n",
        "            self.b1 -= alpha * dJ1\n",
        "            new_err = self.error(X, Y)\n",
        "            step += 1\n",
        "\n",
        "\n",
        "\n",
        "            if _ > 1:\n",
        "              delta = errors[-1] - new_err\n",
        "\n",
        "              if delta < 0:\n",
        "                alpha *= 0.5\n",
        "\n",
        "              if delta < accuracy:\n",
        "                break\n",
        "\n",
        "            if _ % 1000 == 0:\n",
        "              print(f'error: {new_err},')\n",
        "              if _ > 0:\n",
        "                print(f'delta: {delta}\\n')\n",
        "\n",
        "            steps.append(step)\n",
        "            errors.append(new_err)\n",
        "\n",
        "        return steps, errors"
      ],
      "metadata": {
        "id": "VnBSC2xO-LW_"
      },
      "execution_count": 37,
      "outputs": []
    },
    {
      "cell_type": "code",
      "source": [
        "model3 = Model()\n",
        "x = pd.read_csv('https://raw.githubusercontent.com/koroteevmv/ML_course/2023/ML1.1%20linear%20regression/data/x.csv', index_col=0)['0']\n",
        "y = pd.read_csv('https://raw.githubusercontent.com/koroteevmv/ML_course/2023/ML1.1%20linear%20regression/data/y.csv', index_col=0)['0']\n",
        "steps, errors = model3.fit(x, y)\n",
        "\n",
        "X0 = np.linspace(-3, 5, 100)\n",
        "Y0 = model3.predict(X0)\n",
        "\n",
        "plt.figure()\n",
        "plt.scatter(x, y)\n",
        "plt.plot(X0, Y0, 'r')\n",
        "plt.show()\n"
      ],
      "metadata": {
        "colab": {
          "base_uri": "https://localhost:8080/",
          "height": 812
        },
        "id": "CLIdcJvJ-LZY",
        "outputId": "9b16d3ae-2c19-4aa2-c223-231108278868"
      },
      "execution_count": 40,
      "outputs": [
        {
          "output_type": "stream",
          "name": "stdout",
          "text": [
            "error: 2930.352956509933,\n",
            "error: 252.5244210571546,\n",
            "delta: 0.6098728068264165\n",
            "\n",
            "error: 23.78874237781962,\n",
            "delta: 0.0549648395912854\n",
            "\n",
            "error: 2.5137478737999226,\n",
            "delta: 0.005501972585611803\n",
            "\n",
            "error: 0.2991966090645402,\n",
            "delta: 0.0006212774379573127\n",
            "\n",
            "error: 0.03929488974303479,\n",
            "delta: 7.83232880942758e-05\n",
            "\n",
            "error: 0.0055195681256033574,\n",
            "delta: 1.0712856320307593e-05\n",
            "\n",
            "error: 0.0008069810305802026,\n",
            "delta: 1.5424171378341416e-06\n",
            "\n"
          ]
        },
        {
          "output_type": "display_data",
          "data": {
            "text/plain": [
              "<Figure size 640x480 with 1 Axes>"
            ],
            "image/png": "[encoded data removed]"
          },
          "metadata": {}
        }
      ]
    },
    {
      "cell_type": "code",
      "source": [],
      "metadata": {
        "id": "GdcmWBf4-Lb1"
      },
      "execution_count": null,
      "outputs": []
    },
    {
      "cell_type": "markdown",
      "source": [
        "Добавьте к классу модели метод рисования графиков. Сделайте так, чтобы он был независим от масштаба переданных данных."
      ],
      "metadata": {
        "id": "dCeIGma0DFKE"
      }
    },
    {
      "cell_type": "code",
      "source": [
        "class Model(object):\n",
        "    \"\"\"Модель парной линейной регрессии\"\"\"\n",
        "    def __init__(self):\n",
        "        self.b0 = 0\n",
        "        self.b1 = 0\n",
        "        self.made_steps = []\n",
        "        self.count_errors = []\n",
        "    def predict(self, X):\n",
        "        return self.b0 + self.b1 * X.squeeze()\n",
        "    def error(self, X, Y):\n",
        "        X = X.squeeze()\n",
        "        Y = Y.squeeze()\n",
        "        return sum(((self.predict(X) - Y)**2) / (2 * len(X)))\n",
        "    def fit(self, X, Y, alpha=0.9, accuracy=0.01, max_steps=5000, error_step = 0.000001):\n",
        "        steps, errors = [], []\n",
        "        step = 0\n",
        "        X = X.squeeze()\n",
        "        Y = Y.squeeze()\n",
        "\n",
        "        for _ in range(10000):\n",
        "            dJ0 = sum(self.predict(X) - Y) /len(X)\n",
        "            dJ1 = sum((self.predict(X) - Y) * X) /len(X)\n",
        "            self.b0 -= alpha * dJ0\n",
        "            self.b1 -= alpha * dJ1\n",
        "            new_err = self.error(X, Y)\n",
        "\n",
        "            if errors:\n",
        "              if errors[-1] - new_err < 0:\n",
        "                alpha = 2*alpha\n",
        "              elif abs(errors[-1] - new_err) <= error_step:\n",
        "                self.made_steps = steps\n",
        "                self.count_errors = errors\n",
        "                return steps, errors\n",
        "            if step >= max_steps:\n",
        "              self.made_steps = steps\n",
        "              self.count_errors = errors\n",
        "              return steps, errors\n",
        "\n",
        "            step += 1\n",
        "            steps.append(step)\n",
        "            errors.append(new_err)\n",
        "        self.made_steps = steps\n",
        "        self.count_errors = errors\n",
        "        return steps, errors\n",
        "    def plot_error(self, X, Y):\n",
        "      X = X.squeeze()\n",
        "      Y = Y.squeeze()\n",
        "      X0 = np.linspace(min(X), max(X), 100)\n",
        "      Y0 = self.predict(X0)\n",
        "      plt.figure()\n",
        "      plt.plot(self.made_steps, self.count_errors, 'g')\n",
        "      plt.show()\n",
        "\n",
        "    def plot_scatter_error(self, X, Y):\n",
        "      X = X.squeeze()\n",
        "      Y = Y.squeeze()\n",
        "      X0 = np.linspace(min(X), max(X), 100)\n",
        "      Y0 = self.predict(X0)\n",
        "\n",
        "      plt.figure()\n",
        "      plt.scatter(X, Y)\n",
        "      plt.plot(X0, Y0, 'r')\n",
        "      plt.show()\n",
        "\n"
      ],
      "metadata": {
        "id": "VMIVIw4T-Lec"
      },
      "execution_count": 41,
      "outputs": []
    },
    {
      "cell_type": "code",
      "source": [
        "model3 = Model()\n",
        "model3.fit(x, y)\n",
        "model3.plot_scatter_error(x,y)\n",
        "model3.plot_error(x, y)"
      ],
      "metadata": {
        "colab": {
          "base_uri": "https://localhost:8080/",
          "height": 843
        },
        "id": "jF202QhR-LhW",
        "outputId": "fde08bc1-e20c-4889-8c02-0304cf85a550"
      },
      "execution_count": 42,
      "outputs": [
        {
          "output_type": "display_data",
          "data": {
            "text/plain": [
              "<Figure size 640x480 with 1 Axes>"
            ],
            "image/png": "[encoded data removed]"
          },
          "metadata": {}
        },
        {
          "output_type": "display_data",
          "data": {
            "text/plain": [
              "<Figure size 640x480 with 1 Axes>"
            ],
            "image/png": "[encoded data removed]"
          },
          "metadata": {}
        }
      ]
    },
    {
      "cell_type": "code",
      "source": [],
      "metadata": {
        "id": "VdmQ5TNw-LkK"
      },
      "execution_count": null,
      "outputs": []
    },
    {
      "cell_type": "code",
      "source": [],
      "metadata": {
        "id": "MaZJUVbc-Lmp"
      },
      "execution_count": null,
      "outputs": []
    },
    {
      "cell_type": "code",
      "source": [],
      "metadata": {
        "id": "TdEtSXkG-LpA"
      },
      "execution_count": null,
      "outputs": []
    },
    {
      "cell_type": "code",
      "source": [],
      "metadata": {
        "id": "k5XxA3nQ-Lrt"
      },
      "execution_count": null,
      "outputs": []
    },
    {
      "cell_type": "code",
      "source": [],
      "metadata": {
        "id": "EEX5PmaR-LuU"
      },
      "execution_count": null,
      "outputs": []
    },
    {
      "cell_type": "code",
      "source": [],
      "metadata": {
        "id": "SMUSjyju-Lw6"
      },
      "execution_count": null,
      "outputs": []
    },
    {
      "cell_type": "code",
      "source": [],
      "metadata": {
        "id": "cxlgFhDG-Lzw"
      },
      "execution_count": null,
      "outputs": []
    },
    {
      "cell_type": "code",
      "source": [],
      "metadata": {
        "id": "PxKN4Ba0-L2j"
      },
      "execution_count": null,
      "outputs": []
    },
    {
      "cell_type": "code",
      "source": [],
      "metadata": {
        "id": "a67Vu9mQ-L5D"
      },
      "execution_count": null,
      "outputs": []
    },
    {
      "cell_type": "code",
      "source": [],
      "metadata": {
        "id": "nLK_NqNz-L7w"
      },
      "execution_count": null,
      "outputs": []
    },
    {
      "cell_type": "code",
      "source": [
        "hyp = Model()\n",
        "steps, errors = hyp.fit(x, y)\n",
        "J = hyp.error(x, y)\n",
        "print(\"error after gradient descent:\", J)\n",
        "print(hyp.predict(10))"
      ],
      "metadata": {
        "colab": {
          "base_uri": "https://localhost:8080/"
        },
        "id": "x15wT-K9wYWZ",
        "outputId": "573cd2c2-7ce1-49b6-bf27-aff5e8826ab0"
      },
      "execution_count": 7,
      "outputs": [
        {
          "output_type": "stream",
          "name": "stdout",
          "text": [
            "error after gradient descent: 2.3101647145272472e-10\n",
            "691.8769986643466\n"
          ]
        }
      ]
    },
    {
      "cell_type": "code",
      "source": [
        "X0 = np.linspace(-3, 2, 100)\n",
        "Y0 = hyp.predict(X0)\n",
        "plt.figure()\n",
        "plt.scatter(x, y)\n",
        "plt.plot(X0, Y0, 'r')\n",
        "plt.show()"
      ],
      "metadata": {
        "colab": {
          "base_uri": "https://localhost:8080/",
          "height": 430
        },
        "id": "_ixUXZO1VS2M",
        "outputId": "f9e4d24a-5878-48c5-ec9f-30938cf91f84"
      },
      "execution_count": 8,
      "outputs": [
        {
          "output_type": "display_data",
          "data": {
            "text/plain": [
              "<Figure size 640x480 with 1 Axes>"
            ],
            "image/png": "[encoded data removed]"
          },
          "metadata": {}
        }
      ]
    },
    {
      "cell_type": "code",
      "source": [],
      "metadata": {
        "id": "eRgsb1koVWkd"
      },
      "execution_count": null,
      "outputs": []
    },
    {
      "cell_type": "code",
      "source": [],
      "metadata": {
        "id": "-QpbaqJUVje3"
      },
      "execution_count": null,
      "outputs": []
    }
  ]
}